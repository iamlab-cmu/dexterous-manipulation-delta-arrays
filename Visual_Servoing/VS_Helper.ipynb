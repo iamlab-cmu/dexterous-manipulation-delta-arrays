{
 "cells": [
  {
   "cell_type": "code",
   "execution_count": 7,
   "id": "e16436d5-df03-4399-a98d-ed403e797a48",
   "metadata": {},
   "outputs": [
    {
     "data": {
      "image/png": "[encoded data removed]",
      "text/plain": [
       "<Figure size 640x480 with 1 Axes>"
      ]
     },
     "metadata": {},
     "output_type": "display_data"
    }
   ],
   "source": [
    "import matplotlib.pyplot as plt\n",
    "import numpy as np\n",
    "\n",
    "def plot_nearby_points(boundary_points, given_point, distance_threshold=10):\n",
    "    \"\"\"\n",
    "    Plot boundary points that are within a specified distance from a given point.\n",
    "\n",
    "    Args:\n",
    "    - boundary_points: 2D array of boundary points\n",
    "    - given_point: A point [x, y]\n",
    "    - distance_threshold: Distance within which to select and plot boundary points\n",
    "    \"\"\"\n",
    "\n",
    "    boundary_points_array = np.array(boundary_points)\n",
    "    given_point_array = np.array(given_point)\n",
    "\n",
    "    # Calculate Euclidean distance between the given point and each boundary point\n",
    "    distances = np.linalg.norm(boundary_points_array - given_point_array, axis=1)\n",
    "\n",
    "    # Select boundary points within the distance threshold\n",
    "    nearby_points = boundary_points_array[distances < distance_threshold]\n",
    "\n",
    "    # Plot the given point\n",
    "    plt.scatter(given_point[0], given_point[1], color='red', s=50, label='Given Point')\n",
    "\n",
    "    # Plot the nearby boundary points\n",
    "    plt.scatter(nearby_points[:, 0], nearby_points[:, 1], color='blue', s=10, label='Nearby Boundary Points')\n",
    "\n",
    "    plt.legend()\n",
    "    plt.show()\n",
    "\n",
    "# Example data\n",
    "boundary_points = [[1, 1], [2, 3], [3, 5], [9, 9], [10, 10], [11, 11], [12, 12]]\n",
    "given_point = [10, 10]\n",
    "\n",
    "plot_nearby_points(boundary_points, given_point, distance_threshold=10)"
   ]
  },
  {
   "cell_type": "code",
   "execution_count": 17,
   "id": "1b495e17",
   "metadata": {},
   "outputs": [],
   "source": [
    "import numpy as np\n",
    "import matplotlib.pyplot as plt\n",
    "# Cosine Similarity between cropped edges of images\n",
    "import cv2\n",
    "import torch\n",
    "import torchvision.transforms as transforms\n",
    "from torchvision.models import resnet18\n",
    "from scipy.spatial.distance import cosine\n",
    "from PIL import Image\n",
    "\n",
    "np.set_printoptions(precision=3)"
   ]
  },
  {
   "cell_type": "code",
   "execution_count": 33,
   "id": "3fa51ce1",
   "metadata": {},
   "outputs": [
    {
     "data": {
      "text/plain": [
       "(<matplotlib.image.AxesImage at 0x7efe5b0a5df0>, (224, 224, 3))"
      ]
     },
     "execution_count": 33,
     "metadata": {},
     "output_type": "execute_result"
    },
    {
     "data": {
      "image/png": "[encoded data removed]",
      "text/plain": [
       "<Figure size 432x288 with 1 Axes>"
      ]
     },
     "metadata": {
      "needs_background": "light"
     },
     "output_type": "display_data"
    }
   ],
   "source": [
    "rectangle_img = np.zeros((1080, 1920))\n",
    "rectangle_img[450:650, 800:1100] = 1\n",
    "corners = [(450, 800), (450, 1100), (650, 800), (650, 1100)]\n",
    "\n",
    "cols = np.random.rand(3)\n",
    "for corner in corners:\n",
    "    img_patch = rectangle_img[corner[0]-112:corner[0]+112, corner[1]-112:corner[1]+112]\n",
    "    img_patch = np.dstack((img_patch, img_patch, img_patch))*cols\n",
    "plt.imshow(img_patch), img_patch.shape"
   ]
  },
  {
   "cell_type": "code",
   "execution_count": 26,
   "id": "3704232f",
   "metadata": {},
   "outputs": [
    {
     "name": "stdout",
     "output_type": "stream",
     "text": [
      "tensor([[1.0000, 0.9576, 0.9331, 0.9239],\n",
      "        [0.9576, 1.0000, 0.9223, 0.9386],\n",
      "        [0.9331, 0.9223, 1.0000, 0.9707],\n",
      "        [0.9239, 0.9386, 0.9707, 1.0000]])\n"
     ]
    }
   ],
   "source": [
    "# Load the pretrained ResNet model\n",
    "model = resnet18(pretrained=True)\n",
    "model = torch.nn.Sequential(*list(model.children())[:-1])\n",
    "model.eval()\n",
    "\n",
    "# Load an image of a rectangle\n",
    "image = rectangle_img\n",
    "\n",
    "# Define the corners' coordinates\n",
    "corners = [(450, 800), (450, 1100), (650, 800), (650, 1100)]\n",
    "\n",
    "# Preprocess the images and pass through the ResNet model\n",
    "transform = transforms.Compose([\n",
    "    transforms.Resize(224),\n",
    "    transforms.ToTensor(),\n",
    "    transforms.Normalize(mean=[0.485, 0.456, 0.406], std=[0.229, 0.224, 0.225]),\n",
    "])\n",
    "\n",
    "corner_features = []\n",
    "with torch.no_grad():\n",
    "    for corner in corners:\n",
    "        # Crop the corner from the image\n",
    "        corner_img = image[corner[0]-112:corner[0]+112, corner[1]-112:corner[1]+112]\n",
    "        corner_img = np.dstack((corner_img*0.8, corner_img*1, corner_img*0.1))\n",
    "        corner_img = Image.fromarray(np.uint8(corner_img*255))\n",
    "        corner_img = transform(corner_img).unsqueeze(0)\n",
    "        \n",
    "        # Forward pass through ResNet\n",
    "        corner_feature = model(corner_img)\n",
    "        corner_features.append(corner_feature.squeeze())\n",
    "\n",
    "# Compute cosine similarity scores\n",
    "similarity_matrix = torch.zeros((4, 4))\n",
    "for i in range(4):\n",
    "    for j in range(4):\n",
    "        similarity_matrix[i, j] = 1 - cosine(corner_features[i], corner_features[j])\n",
    "\n",
    "print(similarity_matrix)"
   ]
  },
  {
   "cell_type": "code",
   "execution_count": 30,
   "id": "1338bf33",
   "metadata": {},
   "outputs": [
    {
     "ename": "AttributeError",
     "evalue": "'AdaptiveAvgPool2d' object has no attribute 'shape'",
     "output_type": "error",
     "traceback": [
      "\u001b[0;31m---------------------------------------------------------------------------\u001b[0m",
      "\u001b[0;31mAttributeError\u001b[0m                            Traceback (most recent call last)",
      "\u001b[0;32m<ipython-input-30-49d6ef52c108>\u001b[0m in \u001b[0;36m<module>\u001b[0;34m\u001b[0m\n\u001b[1;32m      1\u001b[0m \u001b[0mfinal_conv_layer\u001b[0m \u001b[0;34m=\u001b[0m \u001b[0mmodel\u001b[0m\u001b[0;34m[\u001b[0m\u001b[0;34m-\u001b[0m\u001b[0;36m1\u001b[0m\u001b[0;34m]\u001b[0m\u001b[0;34m\u001b[0m\u001b[0;34m\u001b[0m\u001b[0m\n\u001b[0;32m----> 2\u001b[0;31m \u001b[0mfinal_conv_layer\u001b[0m\u001b[0;34m.\u001b[0m\u001b[0mshape\u001b[0m\u001b[0;34m\u001b[0m\u001b[0;34m\u001b[0m\u001b[0m\n\u001b[0m",
      "\u001b[0;32m~/anaconda3/lib/python3.8/site-packages/torch/nn/modules/module.py\u001b[0m in \u001b[0;36m__getattr__\u001b[0;34m(self, name)\u001b[0m\n\u001b[1;32m   1128\u001b[0m             \u001b[0;32mif\u001b[0m \u001b[0mname\u001b[0m \u001b[0;32min\u001b[0m \u001b[0mmodules\u001b[0m\u001b[0;34m:\u001b[0m\u001b[0;34m\u001b[0m\u001b[0;34m\u001b[0m\u001b[0m\n\u001b[1;32m   1129\u001b[0m                 \u001b[0;32mreturn\u001b[0m \u001b[0mmodules\u001b[0m\u001b[0;34m[\u001b[0m\u001b[0mname\u001b[0m\u001b[0;34m]\u001b[0m\u001b[0;34m\u001b[0m\u001b[0;34m\u001b[0m\u001b[0m\n\u001b[0;32m-> 1130\u001b[0;31m         raise AttributeError(\"'{}' object has no attribute '{}'\".format(\n\u001b[0m\u001b[1;32m   1131\u001b[0m             type(self).__name__, name))\n\u001b[1;32m   1132\u001b[0m \u001b[0;34m\u001b[0m\u001b[0m\n",
      "\u001b[0;31mAttributeError\u001b[0m: 'AdaptiveAvgPool2d' object has no attribute 'shape'"
     ]
    }
   ],
   "source": [
    "final_conv_layer = model[-1]\n",
    "final_conv_layer.shape"
   ]
  },
  {
   "cell_type": "code",
   "execution_count": null,
   "id": "59ace588",
   "metadata": {},
   "outputs": [],
   "source": [
    "def pixel_to_xy(points, origin_pixel, scale_factors):\n",
    "    \"\"\"\n",
    "    Convert an array of 2D points from pixel space to 2D XY-space.\n",
    "\n",
    "    Args:\n",
    "    points (list of tuples): List of (x_pixel, y_pixel) pixel coordinates.\n",
    "    origin_pixel (tuple): (x_origin, y_origin) pixel coordinates of the origin.\n",
    "    scale_factors (tuple): (x_scale, y_scale) scale factors for X and Y axes.\n",
    "\n",
    "    Returns:\n",
    "    list of tuples: List of (x_xy, y_xy) XY-space coordinates.\n",
    "    \"\"\"\n",
    "    xy_points = []\n",
    "    for x_pixel, y_pixel in points:\n",
    "        x_xy = (x_pixel - origin_pixel[0]) * scale_factors[0]\n",
    "        y_xy = (origin_pixel[1] - y_pixel) * scale_factors[1]\n",
    "        xy_points.append((x_xy, y_xy))\n",
    "    return xy_points\n",
    "\n",
    "    # Define pixel coordinates of points\n",
    "pixel_points = [(100, 200), (150, 250), (200, 300)]\n",
    "\n",
    "# Define origin and scale factors\n",
    "origin_pixel = (50, 50)  # Example origin in pixel space\n",
    "scale_factors = (0.1, 0.1)  # Example scale factors\n",
    "\n",
    "# Convert to XY-space coordinates\n",
    "xy_points = pixel_to_xy(pixel_points, origin_pixel, scale_factors)\n",
    "\n",
    "# Print the resulting XY-space coordinates\n",
    "print(xy_points)"
   ]
  },
  {
   "cell_type": "code",
   "execution_count": null,
   "id": "4447bb76",
   "metadata": {},
   "outputs": [],
   "source": [
    "    def get_nearest_robot_and_crop(self, env_idx, name = 'rope'):\n",
    "        fig, ax = plt.subplots(1, 2, figsize=(16, 4.5)) \n",
    "        # img = self.current_scene_frame['color'].data.astype(np.uint8)\n",
    "        seg_map = self.current_scene_frame['seg'].data.astype(np.uint8)\n",
    "        plt.imshow(seg_map)\n",
    "        boundary = cv2.Canny(seg_map,100,200)\n",
    "\n",
    "        boundary_pts = np.array(np.where(boundary==255)).T\n",
    "        boundary_pts2 = np.array(np.where(boundary==255))\n",
    "        print(boundary_pts[0], boundary_pts2[:,0])\n",
    "        # self.block_com[0] = np.mean(boundary_pts, axis=0)\n",
    "        min_x, min_y = np.min(boundary_pts, axis=0)\n",
    "        max_x, max_y = np.max(boundary_pts, axis=0)\n",
    "\n",
    "        boundary_pts[:,0] = (boundary_pts[:,0] - min_x)/(max_x-min_x)*(self.plane_size[1][0]-self.plane_size[0][0])+self.plane_size[0][0]\n",
    "        boundary_pts[:,1] = (boundary_pts[:,1] - min_y)/(max_y-min_y)*(self.plane_size[1][1]-self.plane_size[0][1])+self.plane_size[0][1]\n",
    "\n",
    "        idxs, neg_idxs, DG, pos = self.nn_helper.get_nn_robots(boundary_pts, num_clusters=40)\n",
    "        idxs = np.array(list(idxs))\n",
    "        min_idx = idxs[np.lexsort((idxs[:, 0], idxs[:, 1]))][0]\n",
    "        for idx in idxs:\n",
    "                ax[0].scatter(*self.nn_helper.robot_positions[tuple(idx)], c='r')\n",
    "\n",
    "        ax[0].scatter(boundary_pts[:,0], boundary_pts[:,1])\n",
    "        ax[0].scatter(*self.nn_helper.robot_positions[tuple(min_idx)], c='g')\n",
    "        ax[0].axis('equal')\n",
    "\n",
    "        finger_pos = self.nn_helper.robot_positions[tuple(min_idx)].copy()\n",
    "        finger_pos[0] = (finger_pos[0] - self.plane_size[0][0])/(self.plane_size[1][0]-self.plane_size[0][0])*(max_x-min_x)+min_x\n",
    "        finger_pos[1] = (finger_pos[1] - self.plane_size[0][1])/(self.plane_size[1][1]-self.plane_size[0][1])*(max_y-min_y)+min_y\n",
    "        finger_pos = finger_pos.astype(np.int32)\n",
    "\n",
    "        crop = seg_map[finger_pos[0]-112:finger_pos[0]+112, finger_pos[1]-112:finger_pos[1]+112]\n",
    "        # cols = np.random.rand(3)\n",
    "        # crop = np.dstack((crop, crop, crop))*cols\n",
    "        ax[1].imshow(crop)\n",
    "        # ax[1].scatter(finger_pos[1], finger_pos[0], c='r')\n",
    "        ax[1].axis('equal')\n",
    "        plt.show()\n",
    "\n",
    "        return None, neg_idxs, DG, pos\n",
    "\n",
    "def get_nearest_robot_and_crop(self, env_idx):\n",
    "        # plt.figure(figsize=(6.6667,11.85))\n",
    "        img = self.current_scene_frame['color'].data.astype(np.uint8)\n",
    "        # plt.imshow(img)\n",
    "        # plt.show()\n",
    "        hsv = cv2.cvtColor(img, cv2.COLOR_BGR2HSV)\n",
    "        mask = cv2.inRange(hsv, self.lower_green_filter, self.upper_green_filter)\n",
    "        seg_map = cv2.bitwise_and(img, img, mask = mask)\n",
    "        seg_map = cv2.cvtColor(seg_map, cv2.COLOR_BGR2GRAY)\n",
    "\n",
    "        boundary = cv2.Canny(seg_map,100,200)\n",
    "        boundary_pts = np.array(np.where(boundary==255)).T\n",
    "        # 0, 1920 are origin pixels in img space\n",
    "        boundary_pts[:,0] = (boundary_pts[:,0] - 0)/1080*(self.plane_size[1][0]-self.plane_size[0][0])+self.plane_size[0][0]\n",
    "        boundary_pts[:,1] = (1920 - boundary_pts[:,1])/1920*(self.plane_size[1][1]-self.plane_size[0][1])+self.plane_size[0][1]\n",
    "        \n",
    "        # plt.scatter(boundary_pts[:,0], boundary_pts[:,1], c='b')\n",
    "        # plt.scatter(self.nn_helper.kdtree_positions[:,0], self.nn_helper.kdtree_positions[:,1], c='r')\n",
    "        # plt.show()\n",
    "        com = np.mean(boundary_pts, axis=0)\n",
    "\n",
    "        if len(boundary_pts) > 200:\n",
    "            self.bd_pts[env_idx] = boundary_pts[np.random.choice(range(len(boundary_pts)), size=200, replace=False)]\n",
    "        else:\n",
    "            self.bd_pts[env_idx] = boundary_pts\n",
    "        idxs, neg_idxs = self.nn_helper.get_nn_robots(self.bd_pts[env_idx])\n",
    "        idxs = np.array(list(idxs))\n",
    "        min_idx = tuple(idxs[np.lexsort((idxs[:, 0], idxs[:, 1]))][0])\n",
    "        \n",
    "        \"\"\" Single Robot Experiment. Change this to include entire neighborhood \"\"\"\n",
    "        self.active_idxs[env_idx] = {min_idx: np.array((0,0))} # Store the action vector as value here later :)\n",
    "        # [self.active_idxs[idx]=np.array((0,0)) for idx in idxs]\n",
    "\n",
    "        idxs = np.array(list(idxs))\n",
    "        neighbors = self.nn_helper.robot_positions[idxs[:,0], idxs[:,1]]\n",
    "\n",
    "        finger_pos = self.nn_helper.robot_positions[min_idx].copy()\n",
    "        finger_pos[0] = (finger_pos[0] - self.plane_size[0][0])/(self.plane_size[1][0]-self.plane_size[0][0])*1080 - 0\n",
    "        finger_pos[1] = 1920 - (finger_pos[1] - self.plane_size[0][1])/(self.plane_size[1][1]-self.plane_size[0][1])*1920\n",
    "        finger_pos = finger_pos.astype(np.int32)\n",
    "\n",
    "        # plt.imshow(seg_map)\n",
    "        # for i in range(8):\n",
    "        #     for j in range(8):\n",
    "        #         finger_pos = self.nn_helper.robot_positions[i,j].copy()\n",
    "        #         finger_pos[0] = (finger_pos[0] - self.plane_size[0][0])/(self.plane_size[1][0]-self.plane_size[0][0])*1080 - 0\n",
    "        #         finger_pos[1] = 1920 - (finger_pos[1] - self.plane_size[0][1])/(self.plane_size[1][1]-self.plane_size[0][1])*1920\n",
    "        #         finger_pos = finger_pos.astype(np.int32)\n",
    "\n",
    "        #         plt.scatter(finger_pos[1], finger_pos[0], c='r')        \n",
    "        # plt.show()\n",
    "\n",
    "        crop = seg_map[finger_pos[0]-224:finger_pos[0]+224, finger_pos[1]-224:finger_pos[1]+224]\n",
    "        crop = cv2.resize(crop, (224,224), interpolation=cv2.INTER_AREA)\n",
    "        # plt.imshow(crop)\n",
    "        # plt.show()\n",
    "        cols = np.random.rand(3)\n",
    "        crop = np.dstack((crop, crop, crop))*cols\n",
    "        crop = Image.fromarray(np.uint8(crop*255))\n",
    "        crop = self.transform(crop).unsqueeze(0).to(device)\n",
    "        with torch.no_grad():\n",
    "            state = self.model(crop)\n",
    "        return state.detach().cpu().squeeze()"
   ]
  },
  {
   "cell_type": "code",
   "execution_count": 4,
   "id": "18b6ffa5",
   "metadata": {},
   "outputs": [
    {
     "data": {
      "text/plain": [
       "(0.0, -0.02165, 0.2625, 0.303107, 0.13125, 0.1407285)"
      ]
     },
     "execution_count": 4,
     "metadata": {},
     "output_type": "execute_result"
    },
    {
     "ename": "",
     "evalue": "",
     "output_type": "error",
     "traceback": [
      "\u001b[1;31mThe Kernel crashed while executing code in the the current cell or a previous cell. Please review the code in the cell(s) to identify a possible cause of the failure. Click <a href='https://aka.ms/vscodeJupyterKernelCrash'>here</a> for more info. View Jupyter <a href='command:jupyter.viewOutput'>log</a> for further details."
     ]
    }
   ],
   "source": [
    "# plane_size = 1000*np.array([(0.132-0.025, -0.179-0.055),(0.132+0.025, -0.179+0.055)])\n",
    "\n",
    "\n",
    "finger_positions = np.zeros((8,8,2))\n",
    "kdtree_positions = np.zeros((64, 2))\n",
    "for i in range(8):\n",
    "    for j in range(8):\n",
    "        if i%2==0:\n",
    "            finger_positions[i,j] = np.array((i*0.0375, j*0.043301 - 0.02165))\n",
    "            kdtree_positions[i*8 + j, :] = (i*0.0375, j*0.043301 - 0.02165)\n",
    "        else:\n",
    "            finger_positions[i, j] = np.array((i*0.0375, j*0.043301))\n",
    "            kdtree_positions[i*8 + j, :] = (i*0.0375, j*0.043301)\n",
    "\n",
    "min_x = np.min(finger_positions[:,:,0])\n",
    "max_x = np.max(finger_positions[:,:,0])\n",
    "min_y = np.min(finger_positions[:,:,1])\n",
    "max_y = np.max(finger_positions[:,:,1])\n",
    "min_x, min_y, max_x, max_y, (max_x+min_x)/2, (max_y+min_y)/2"
   ]
  },
  {
   "cell_type": "code",
   "execution_count": 11,
   "id": "6ee070b6",
   "metadata": {},
   "outputs": [
    {
     "data": {
      "text/plain": [
       "<matplotlib.collections.PathCollection at 0x7f65f240b670>"
      ]
     },
     "execution_count": 11,
     "metadata": {},
     "output_type": "execute_result"
    },
    {
     "data": {
      "image/png": "[encoded data removed]",
      "text/plain": [
       "<Figure size 640x480 with 1 Axes>"
      ]
     },
     "metadata": {},
     "output_type": "display_data"
    }
   ],
   "source": [
    "seg_map = cv2.imread('./data/testing/boundary.png', 0)\n",
    "\n",
    "boundary = cv2.Canny(seg_map,100,200)\n",
    "boundary_pts = np.array(np.where(boundary==255)).T\n",
    "min_x, min_y = np.min(boundary_pts, axis=0)\n",
    "max_x, max_y = np.max(boundary_pts, axis=0)\n",
    "min_x, min_y, max_x, max_y\n",
    "plt.imshow(seg_map)\n",
    "plt.scatter(boundary_pts[:,1], boundary_pts[:,0])"
   ]
  },
  {
   "cell_type": "code",
   "execution_count": 31,
   "id": "8ca602ef",
   "metadata": {},
   "outputs": [
    {
     "name": "stdout",
     "output_type": "stream",
     "text": [
      "[[ 9.963e-01 -8.617e-02  0.000e+00  1.152e+02]\n",
      " [ 8.617e-02  9.963e-01  0.000e+00  5.757e+01]\n",
      " [ 0.000e+00  0.000e+00  1.000e+00  0.000e+00]\n",
      " [ 0.000e+00  0.000e+00  0.000e+00  1.000e+00]]\n"
     ]
    },
    {
     "data": {
      "text/plain": [
       "<matplotlib.collections.PathCollection at 0x7f65f214d880>"
      ]
     },
     "execution_count": 31,
     "metadata": {},
     "output_type": "execute_result"
    },
    {
     "data": {
      "image/png": "[encoded data removed]",
      "text/plain": [
       "<Figure size 640x480 with 1 Axes>"
      ]
     },
     "metadata": {},
     "output_type": "display_data"
    }
   ],
   "source": [
    "from utils.geometric_utils import icp\n",
    "\n",
    "\n",
    "angle = 5\n",
    "tx, ty = 100, 30\n",
    "\n",
    "height, width = seg_map.shape[:2]\n",
    "rotation_matrix = cv2.getRotationMatrix2D((width // 2, height // 2), angle, 1)\n",
    "translation_matrix = np.float32([[1, 0, tx], [0, 1, ty]])\n",
    "rotated_seg_map = cv2.warpAffine(seg_map, rotation_matrix, (width, height))\n",
    "translated_seg_map = cv2.warpAffine(rotated_seg_map, translation_matrix, (width, height))\n",
    "mask = translated_seg_map == 0\n",
    "\n",
    "translated_seg_map[mask] = 0\n",
    "boundary = cv2.Canny(translated_seg_map,100,200)\n",
    "boundary_pts2 = np.array(np.where(boundary==255)).T\n",
    "np.random.shuffle(boundary_pts2)\n",
    "\n",
    "M = icp(boundary_pts, boundary_pts2, icp_radius=1000)\n",
    "theta = np.arctan2(M[1, 0], M[0, 0])\n",
    "# theta = np.linalg.norm(theta_radians)\n",
    "theta_degrees = np.rad2deg(theta)\n",
    "M[0,3], M[1,3],theta, theta_degrees\n",
    "print(M)\n",
    "\n",
    "\n",
    "plt.imshow(translated_seg_map)\n",
    "plt.scatter(boundary_pts2[:,1], boundary_pts2[:,0])"
   ]
  },
  {
   "cell_type": "code",
   "execution_count": 29,
   "id": "4f78ede5",
   "metadata": {},
   "outputs": [
    {
     "name": "stdout",
     "output_type": "stream",
     "text": [
      "[[ 9.963e-01 -8.617e-02  0.000e+00  1.152e+02]\n",
      " [ 8.617e-02  9.963e-01  0.000e+00  5.757e+01]\n",
      " [ 0.000e+00  0.000e+00  1.000e+00  0.000e+00]\n",
      " [ 0.000e+00  0.000e+00  0.000e+00  1.000e+00]]\n"
     ]
    },
    {
     "data": {
      "text/plain": [
       "(115.15964195317466,\n",
       " 57.573835261954514,\n",
       " 0.08627447264586957,\n",
       " 4.943163162325195)"
      ]
     },
     "execution_count": 29,
     "metadata": {},
     "output_type": "execute_result"
    }
   ],
   "source": []
  },
  {
   "cell_type": "code",
   "execution_count": null,
   "id": "164a9d23",
   "metadata": {},
   "outputs": [],
   "source": []
  }
 ],
 "metadata": {
  "kernelspec": {
   "display_name": "Python 3 (ipykernel)",
   "language": "python",
   "name": "python3"
  },
  "language_info": {
   "codemirror_mode": {
    "name": "ipython",
    "version": 3
   },
   "file_extension": ".py",
   "mimetype": "text/x-python",
   "name": "python",
   "nbconvert_exporter": "python",
   "pygments_lexer": "ipython3",
   "version": "3.8.13"
  }
 },
 "nbformat": 4,
 "nbformat_minor": 5
}
