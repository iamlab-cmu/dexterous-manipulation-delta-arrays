{
 "cells": [
  {
   "cell_type": "code",
   "execution_count": 12,
   "id": "e451328f",
   "metadata": {},
   "outputs": [],
   "source": [
    "import rl_util.env_interaction\n",
    "from rl_util.identity_policy import IdentityLowLevelPolicy\n",
    "import numpy as np\n",
    "from rl_utils.analysis import reps_solve_info_analysis  \n",
    "from scipy.stats import norm\n",
    "import pickle\n",
    "import pydmps\n",
    "import matplotlib.pyplot as plt\n",
    "# import delta_array_utils.RealDeltaControl as RDC\n",
    "import manip_utils.SimDeltaControl as SDC"
   ]
  },
  {
   "cell_type": "code",
   "execution_count": 13,
   "id": "203b77c2",
   "metadata": {},
   "outputs": [],
   "source": [
    "with open(\"./data/sim/skill2/1.pkl\", \"rb\") as f:\n",
    "    reps_policy_loaded = pickle.load(f)"
   ]
  },
  {
   "cell_type": "code",
   "execution_count": 48,
   "id": "6595a588",
   "metadata": {},
   "outputs": [
    {
     "data": {
      "image/png": "[encoded data removed]",
      "text/plain": [
       "<Figure size 432x288 with 1 Axes>"
      ]
     },
     "metadata": {
      "needs_background": "light"
     },
     "output_type": "display_data"
    }
   ],
   "source": [
    "mean = reps_policy_loaded['low_level_policy_params_mean']\n",
    "covar = reps_policy_loaded['low_level_policy_params_var']\n",
    "time_horizon = 101\n",
    "\n",
    "def Bezier_Curve(t, p1, p2, p3, p4):\n",
    "    return (1-t)**3*p1 + 3*t*(1-t)**2*p2 + 3*t**2*(1-t)*p3 + t**3*p4\n",
    "\n",
    "def DMP_trajectory(curve):\n",
    "    DMP = pydmps.dmp_discrete.DMPs_discrete(n_dmps=2, n_bfs=200, ay=np.ones(2) * 10.0)\n",
    "    y_track = []\n",
    "    dy_track = []\n",
    "    ddy_track = []\n",
    "\n",
    "    DMP.imitate_path(y_des=curve)\n",
    "    trajectory, _, _ = DMP.rollout(tau=1)\n",
    "    return trajectory\n",
    "\n",
    "for i in range(1):\n",
    "    action = np.random.multivariate_normal(mean=mean,cov=covar)\n",
    "    x1, y1 = (action[0] + 1)/2*0.02 + 0, (action[1] + 1)/2*0.05 + 0\n",
    "    x2, y2 = (action[2] + 1)/2*0.02 + 0, (action[3] + 1)/2*0.05 + 0\n",
    "    x3, y3 = (action[4] + 1)/2*0.015 + 0.01, (action[5] + 1)/2*0.06 + 0.01\n",
    "    prev_y1, prev_y2 = pickle.load(open(\"./data/skill1_vars.pkl\", \"rb\"))\n",
    "\n",
    "    \"\"\" Generate Bezier curve trajectory using REPS variables and smoothen trajectory using DMP \"\"\"\n",
    "    points = np.array(((prev_y1, 0), (x1, y1), (x2, y2), (x3, y3)))\n",
    "    # print(points)\n",
    "    curve = np.array([Bezier_Curve(t, *points) for t in np.linspace(0, 1, time_horizon - 1)]).T\n",
    "    skill_traj = DMP_trajectory(curve)\n",
    "    skill_hold_traj = np.linspace([0, 0], [prev_y2, 0], time_horizon - 1)\n",
    "\n",
    "    # print(np.min(skill_traj[:,0]),np.max(skill_traj[:,0]),np.min(skill_traj[:,1]),np.max(skill_traj[:,1]))\n",
    "    plt.plot(curve[0], curve[1])"
   ]
  },
  {
   "cell_type": "code",
   "execution_count": 21,
   "id": "d3c3b23e",
   "metadata": {
    "scrolled": true
   },
   "outputs": [
    {
     "data": {
      "text/plain": [
       "array([[0.00623195, 0.00638725, 0.0065434 , 0.00670034, 0.00685802,\n",
       "        0.00701636, 0.00717531, 0.0073348 , 0.00749478, 0.00765517,\n",
       "        0.00781591, 0.00797695, 0.00813823, 0.00829967, 0.00846121,\n",
       "        0.0086228 , 0.00878438, 0.00894587, 0.00910722, 0.00926836,\n",
       "        0.00942923, 0.00958978, 0.00974993, 0.00990963, 0.01006881,\n",
       "        0.01022741, 0.01038537, 0.01054263, 0.01069912, 0.01085478,\n",
       "        0.01100954, 0.01116336, 0.01131616, 0.01146788, 0.01161846,\n",
       "        0.01176783, 0.01191594, 0.01206272, 0.01220811, 0.01235205,\n",
       "        0.01249448, 0.01263532, 0.01277453, 0.01291203, 0.01304777,\n",
       "        0.01318169, 0.01331371, 0.01344378, 0.01357184, 0.01369782,\n",
       "        0.01382167, 0.01394331, 0.01406269, 0.01417974, 0.0142944 ,\n",
       "        0.01440662, 0.01451632, 0.01462344, 0.01472793, 0.01482972,\n",
       "        0.01492874, 0.01502494, 0.01511826, 0.01520862, 0.01529597,\n",
       "        0.01538025, 0.01546139, 0.01553934, 0.01561402, 0.01568537,\n",
       "        0.01575335, 0.01581787, 0.01587888, 0.01593632, 0.01599012,\n",
       "        0.01604023, 0.01608657, 0.0161291 , 0.01616774, 0.01620243,\n",
       "        0.01623311, 0.01625971, 0.01628219, 0.01630047, 0.01631448,\n",
       "        0.01632418, 0.01632949, 0.01633036, 0.01632672, 0.0163185 ,\n",
       "        0.01630566, 0.01628811, 0.01626581, 0.01623869, 0.01620669,\n",
       "        0.01616974, 0.01612778, 0.01608076, 0.0160286 , 0.01597124],\n",
       "       [0.        , 0.0004679 , 0.00093802, 0.00141024, 0.00188443,\n",
       "        0.00236047, 0.00283821, 0.00331754, 0.00379832, 0.00428043,\n",
       "        0.00476373, 0.0052481 , 0.00573341, 0.00621953, 0.00670633,\n",
       "        0.00719368, 0.00768145, 0.00816951, 0.00865774, 0.00914601,\n",
       "        0.00963418, 0.01012213, 0.01060973, 0.01109684, 0.01158335,\n",
       "        0.01206912, 0.01255402, 0.01303793, 0.01352071, 0.01400224,\n",
       "        0.01448238, 0.01496101, 0.015438  , 0.01591322, 0.01638654,\n",
       "        0.01685783, 0.01732697, 0.01779382, 0.01825826, 0.01872015,\n",
       "        0.01917937, 0.01963578, 0.02008927, 0.0205397 , 0.02098693,\n",
       "        0.02143085, 0.02187133, 0.02230823, 0.02274142, 0.02317078,\n",
       "        0.02359618, 0.02401748, 0.02443457, 0.02484731, 0.02525557,\n",
       "        0.02565922, 0.02605813, 0.02645218, 0.02684124, 0.02722517,\n",
       "        0.02760385, 0.02797715, 0.02834494, 0.02870709, 0.02906348,\n",
       "        0.02941396, 0.02975842, 0.03009673, 0.03042875, 0.03075436,\n",
       "        0.03107343, 0.03138582, 0.03169142, 0.03199009, 0.0322817 ,\n",
       "        0.03256613, 0.03284323, 0.0331129 , 0.03337499, 0.03362938,\n",
       "        0.03387594, 0.03411454, 0.03434504, 0.03456733, 0.03478128,\n",
       "        0.03498674, 0.0351836 , 0.03537173, 0.035551  , 0.03572127,\n",
       "        0.03588242, 0.03603432, 0.03617685, 0.03630986, 0.03643324,\n",
       "        0.03654685, 0.03665057, 0.03674426, 0.03682781, 0.03690107]])"
      ]
     },
     "execution_count": 21,
     "metadata": {},
     "output_type": "execute_result"
    }
   ],
   "source": [
    "curve"
   ]
  },
  {
   "cell_type": "code",
   "execution_count": 67,
   "id": "82c58bdc",
   "metadata": {},
   "outputs": [],
   "source": [
    "class DMP:\n",
    "    def __init__(self, num_bfs = 16):\n",
    "        self.num_bfs = num_bfs     # num of basis functions\n",
    "        self.K = 25*25/4     # Spring coefficient\n",
    "        self.B = 25          # damper coefficient\n",
    "        self.C = np.linspace(0, 1, self.num_bfs)    # num of basis fn centers\n",
    "        self.H = 0.65*(1/(self.num_bfs - 1))**2      # bf widths\n",
    "        \n",
    "        self.weights = [0, 0, 0, 0, 0]\n",
    "        self.start = self.goal = self.T = 0\n",
    "        self.q = self.qd = self.qdd = 0\n",
    "        \n",
    "    def set_task_params(self, start, goal, T, dt):\n",
    "        self.dt = dt\n",
    "        self.start = start\n",
    "        self.goal = goal\n",
    "        self.T = T\n",
    "        self.q = self.start\n",
    "        self.qd = self.qdd = 0\n",
    "        \n",
    "    def fwd_simulate(self, horizon, weights):\n",
    "        t = 0\n",
    "        pos = []\n",
    "        for i in range(horizon):\n",
    "            t += self.dt\n",
    "            if t <= self.T:\n",
    "                phi = [np.exp(-((t/self.T - c)**2)/2*self.H) for c in self.C]\n",
    "                phi /= np.sum(phi)\n",
    "#                 print(phi)\n",
    "                f = np.dot(phi, weights)\n",
    "            else:\n",
    "                f = 0\n",
    "#             print(f)\n",
    "            self.qdd = (self.K*(self.goal-self.q)/(self.T**2)) - self.B*self.qd/self.T + (self.goal-self.start)*f/(self.T**2)\n",
    "#             print(self.qdd)\n",
    "            self.qd += self.qdd * self.dt\n",
    "            self.q += self.qd * self.dt\n",
    "            pos.append(self.q)\n",
    "        return np.array(pos)"
   ]
  },
  {
   "cell_type": "code",
   "execution_count": 70,
   "id": "36248efe",
   "metadata": {},
   "outputs": [
    {
     "data": {
      "text/plain": [
       "[<matplotlib.lines.Line2D at 0x7f01f004b340>]"
      ]
     },
     "execution_count": 70,
     "metadata": {},
     "output_type": "execute_result"
    },
    {
     "data": {
      "image/png": "[encoded data removed]",
      "text/plain": [
       "<Figure size 432x288 with 1 Axes>"
      ]
     },
     "metadata": {
      "needs_background": "light"
     },
     "output_type": "display_data"
    }
   ],
   "source": [
    "dmp = DMP()\n",
    "dmp.set_task_params(-1, 1.5, 3, 0.001)\n",
    "pos = dmp.fwd_simulate(3000, np.random.rand(16))\n",
    "plt.plot(pos)"
   ]
  },
  {
   "cell_type": "code",
   "execution_count": 83,
   "id": "4c39e013",
   "metadata": {},
   "outputs": [
    {
     "data": {
      "text/plain": [
       "0.12079191238496917"
      ]
     },
     "execution_count": 83,
     "metadata": {},
     "output_type": "execute_result"
    }
   ],
   "source": [
    "np.linalg.norm(np.vstack((x_pos, y_pos)) - curve)"
   ]
  },
  {
   "cell_type": "code",
   "execution_count": 95,
   "id": "cbc601e2",
   "metadata": {},
   "outputs": [
    {
     "name": "stdout",
     "output_type": "stream",
     "text": [
      "0.11346535604427481\n"
     ]
    },
    {
     "data": {
      "text/plain": [
       "[<matplotlib.lines.Line2D at 0x7f01d940cd90>]"
      ]
     },
     "execution_count": 95,
     "metadata": {},
     "output_type": "execute_result"
    },
    {
     "data": {
      "image/png": "[encoded data removed]",
      "text/plain": [
       "<Figure size 432x288 with 1 Axes>"
      ]
     },
     "metadata": {
      "needs_background": "light"
     },
     "output_type": "display_data"
    }
   ],
   "source": [
    "x_dmp = DMP(num_bfs = 16)\n",
    "y_dmp = DMP(num_bfs = 16)\n",
    "xs, ys = curve\n",
    "x_dmp.set_task_params(xs[0], xs[-1], 3, 0.03)\n",
    "x_pos = x_dmp.fwd_simulate(100, np.random.rand(16))\n",
    "\n",
    "y_dmp.set_task_params(ys[0], ys[-1], 3, 0.03)\n",
    "y_pos = y_dmp.fwd_simulate(100, np.random.rand(16))\n",
    "\n",
    "print(np.linalg.norm(np.vstack((x_pos, y_pos)) - curve))\n",
    "\n",
    "plt.plot(curve[0], curve[1])\n",
    "plt.plot(x_pos, y_pos)"
   ]
  },
  {
   "cell_type": "code",
   "execution_count": 98,
   "id": "2255304f",
   "metadata": {},
   "outputs": [],
   "source": [
    "\"\"\" LET'S TRY TO MAKE THE ORANGE CURVE SAME AS BLUE \"\"\"\n",
    "import torch\n",
    "import torch.nn as nn\n",
    "import torch.nn.functional as F\n",
    "\n",
    "# EXPERIMENT 1\n",
    "\"\"\"\n",
    "Input: start block pose, target block pose : np.array((0.0433, 0.033, 0 | 0.0433, 0.04, np.pi/12) )\n",
    "Output: weights of basis functions on all degrees of freedom to get desired trajectory\n",
    "\"\"\"\n",
    "\n",
    "class NDMP(nn.Module):\n",
    "    def __init__(self, num_bfs = 16):\n",
    "        super(NDMP, self).__init__()\n",
    "        self.num_bfs = num_bfs\n",
    "        self.ndmp_model = nn.Sequential(\n",
    "            nn.Linear(6, 32),\n",
    "            nn.ReLU(),\n",
    "            nn.Linear(32, 64),\n",
    "            nn.ReLU(),\n",
    "            nn.Linear(64, 128),\n",
    "            nn.ReLU(),\n",
    "            nn.Linear(128, 64),\n",
    "            nn.ReLU(),\n",
    "            nn.Linear(64, self.num_bfs * 2)\n",
    "        )\n",
    "    \n",
    "    def forward(self, x):\n",
    "        output = self.ndmp_model(x)\n",
    "        return output"
   ]
  },
  {
   "cell_type": "code",
   "execution_count": 99,
   "id": "f7f8a15c",
   "metadata": {},
   "outputs": [],
   "source": [
    "dmp_model = NDMP()\n",
    "criterion = nn.MSELoss()\n",
    "learning_rate = 0.001\n",
    "epochs = 10    \n",
    "device = torch.device(\"cuda\" if torch.cuda.is_available() else \"cpu\")\n",
    "dmp_model = dmp_model.to(device)"
   ]
  },
  {
   "cell_type": "code",
   "execution_count": 103,
   "id": "2a6178f9",
   "metadata": {},
   "outputs": [
    {
     "ename": "RuntimeError",
     "evalue": "Can't call numpy() on Tensor that requires grad. Use tensor.detach().numpy() instead.",
     "output_type": "error",
     "traceback": [
      "\u001b[0;31m---------------------------------------------------------------------------\u001b[0m",
      "\u001b[0;31mRuntimeError\u001b[0m                              Traceback (most recent call last)",
      "Input \u001b[0;32mIn [103]\u001b[0m, in \u001b[0;36m<cell line: 11>\u001b[0;34m()\u001b[0m\n\u001b[1;32m     11\u001b[0m \u001b[38;5;28;01mfor\u001b[39;00m epoch \u001b[38;5;129;01min\u001b[39;00m \u001b[38;5;28mrange\u001b[39m(epochs):\n\u001b[1;32m     12\u001b[0m     optimizer\u001b[38;5;241m.\u001b[39mzero_grad()\n\u001b[0;32m---> 13\u001b[0m     output \u001b[38;5;241m=\u001b[39m \u001b[43mdmp_model\u001b[49m\u001b[43m(\u001b[49m\u001b[43mip\u001b[49m\u001b[43m)\u001b[49m\u001b[38;5;241;43m.\u001b[39;49m\u001b[43mcpu\u001b[49m\u001b[43m(\u001b[49m\u001b[43m)\u001b[49m\u001b[38;5;241;43m.\u001b[39;49m\u001b[43mnumpy\u001b[49m\u001b[43m(\u001b[49m\u001b[43m)\u001b[49m\n\u001b[1;32m     14\u001b[0m     x_wts \u001b[38;5;241m=\u001b[39m output[:\u001b[38;5;241m16\u001b[39m]\n\u001b[1;32m     15\u001b[0m     y_wts \u001b[38;5;241m=\u001b[39m output[\u001b[38;5;241m16\u001b[39m:]\n",
      "\u001b[0;31mRuntimeError\u001b[0m: Can't call numpy() on Tensor that requires grad. Use tensor.detach().numpy() instead."
     ]
    }
   ],
   "source": [
    "optimizer = torch.optim.Adam(dmp_model.parameters(), lr = learning_rate)\n",
    "ip = torch.Tensor([0.0433, 0.033, 0, 0.0433, 0.04, np.pi/12]).to(device)\n",
    "\n",
    "x_dmp = DMP(num_bfs = 16)\n",
    "y_dmp = DMP(num_bfs = 16)\n",
    "xs, ys = curve\n",
    "x_dmp.set_task_params(xs[0], xs[-1], 3, 0.03)\n",
    "\n",
    "y_dmp.set_task_params(xs[0], xs[-1], 3, 0.03)\n",
    "\n",
    "for epoch in range(epochs):\n",
    "    optimizer.zero_grad()\n",
    "    output = dmp_model(ip)\n",
    "    ooutput_clone = loss.clone().detach().numpy()\n",
    "    x_wts = ooutput_clone[:16]\n",
    "    y_wts = ooutput_clone[16:]\n",
    "    x_pos = x_dmp.fwd_simulate(100, np.random.rand(16))\n",
    "    y_pos = y_dmp.fwd_simulate(100, np.random.rand(16))\n",
    "    loss = criterion(torch.from_numpy(np.vstack((x_pos, y_pos))), torch.from_numpy(curve))\n",
    "    loss.backward()\n",
    "    print(f\"Epoch: {epoch}, Loss: {loss}\")\n",
    "    optimizer.step()"
   ]
  },
  {
   "cell_type": "code",
   "execution_count": null,
   "id": "d7e9e899",
   "metadata": {},
   "outputs": [],
   "source": []
  },
  {
   "cell_type": "code",
   "execution_count": null,
   "id": "b3bbe2ad",
   "metadata": {},
   "outputs": [],
   "source": [
    "action"
   ]
  },
  {
   "cell_type": "code",
   "execution_count": 7,
   "id": "b36bb8b7",
   "metadata": {
    "scrolled": true
   },
   "outputs": [
    {
     "name": "stdout",
     "output_type": "stream",
     "text": [
      "Physics Engine: FleX\n",
      "Physics Device: cuda:0\n",
      "GPU Pipeline: disabled\n"
     ]
    },
    {
     "name": "stderr",
     "output_type": "stream",
     "text": [
      "MESA-INTEL: warning: Performance support disabled, consider sysctl dev.i915.perf_stream_paranoid=0\n",
      "\n"
     ]
    }
   ],
   "source": [
    "env = SDC.DeltaRobotEnv('./config/env.yaml',\"skill1\")\n",
    "env.reset()"
   ]
  },
  {
   "cell_type": "code",
   "execution_count": 4,
   "id": "988954ab",
   "metadata": {},
   "outputs": [
    {
     "ename": "NameError",
     "evalue": "name 'env' is not defined",
     "output_type": "error",
     "traceback": [
      "\u001b[0;31m---------------------------------------------------------------------------\u001b[0m",
      "\u001b[0;31mNameError\u001b[0m                                 Traceback (most recent call last)",
      "Input \u001b[0;32mIn [4]\u001b[0m, in \u001b[0;36m<cell line: 2>\u001b[0;34m()\u001b[0m\n\u001b[1;32m      1\u001b[0m \u001b[38;5;28;01mwhile\u001b[39;00m \u001b[38;5;28;01mTrue\u001b[39;00m:\n\u001b[1;32m      2\u001b[0m     action \u001b[38;5;241m=\u001b[39m np\u001b[38;5;241m.\u001b[39mrandom\u001b[38;5;241m.\u001b[39mmultivariate_normal(mean\u001b[38;5;241m=\u001b[39mmean,cov\u001b[38;5;241m=\u001b[39mcovar)\n\u001b[0;32m----> 3\u001b[0m     \u001b[43menv\u001b[49m\u001b[38;5;241m.\u001b[39mstep(action)\n\u001b[1;32m      4\u001b[0m     env\u001b[38;5;241m.\u001b[39mreset()\n",
      "\u001b[0;31mNameError\u001b[0m: name 'env' is not defined"
     ]
    }
   ],
   "source": [
    "while True:\n",
    "    action = np.random.multivariate_normal(mean=mean,cov=covar)\n",
    "    env.step(action)\n",
    "    env.reset()"
   ]
  },
  {
   "cell_type": "code",
   "execution_count": null,
   "id": "eac84463",
   "metadata": {},
   "outputs": [],
   "source": []
  }
 ],
 "metadata": {
  "kernelspec": {
   "display_name": "Python 3 (ipykernel)",
   "language": "python",
   "name": "python3"
  },
  "language_info": {
   "codemirror_mode": {
    "name": "ipython",
    "version": 3
   },
   "file_extension": ".py",
   "mimetype": "text/x-python",
   "name": "python",
   "nbconvert_exporter": "python",
   "pygments_lexer": "ipython3",
   "version": "3.8.13"
  }
 },
 "nbformat": 4,
 "nbformat_minor": 5
}
