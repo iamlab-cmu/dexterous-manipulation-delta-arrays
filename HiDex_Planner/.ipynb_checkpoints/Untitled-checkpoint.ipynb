{
 "cells": [
  {
   "cell_type": "code",
   "execution_count": null,
   "id": "3a79f627",
   "metadata": {},
   "outputs": [],
   "source": [
    "import numpy as np\n",
    "from scipy.interpolate import interp1d\n",
    "import matplotlib.pyplot as plt\n",
    "\n",
    "def rotate(vector, angle):\n",
    "        rot_matrix = np.array([[np.cos(angle), -np.sin(angle)],[np.sin(angle), np.cos(angle)]])\n",
    "        vector = vector@rot_matrix\n",
    "        return vector\n",
    "\n",
    "def get_dist_vec(focus_pt, robot_pt, norm=True, angle=0):\n",
    "    dist_vec = focus_pt - robot_pt\n",
    "    if norm: \n",
    "        dist_vec = dist_vec / np.linalg.norm(dist_vec)\n",
    "    dist_vec = rotate(dist_vec, angle)\n",
    "    return dist_vec\n",
    "\n",
    "# Define some points:\n",
    "print(points)\n",
    "# points = np.array([[0, 1, 8, 2, 2],\n",
    "#                    [1, 0, 6, 7, 2]]).T  # a (nbre_points x nbre_dim) array\n",
    "# print(points.shape)\n",
    "\n",
    "# Linear length along the line:\n",
    "distance = np.cumsum( np.sqrt(np.sum( np.diff(points, axis=0)**2, axis=1 )) )\n",
    "distance = np.insert(distance, 0, 0)/distance[-1]\n",
    "\n",
    "# Interpolation for different methods:\n",
    "interpolations_methods = ['linear', 'quadratic', 'cubic']\n",
    "alpha = np.linspace(0, 1, 75)\n",
    "\n",
    "interpolated_points = {}\n",
    "for method in interpolations_methods:\n",
    "    interpolator =  interp1d(distance, points, kind=method, axis=0)\n",
    "    interpolated_points[method] = interpolator(alpha)\n",
    "\n",
    "# Graph:\n",
    "plt.figure(figsize=(7,7))\n",
    "for method_name, curve in interpolated_points.items():\n",
    "    plt.plot(*curve.T, '-', label=method_name);\n",
    "\n",
    "plt.plot(*points.T, 'ok', label='original points');\n",
    "plt.axis('equal'); plt.legend(); plt.xlabel('x'); plt.ylabel('y');"
   ]
  },
  {
   "cell_type": "code",
   "execution_count": 26,
   "id": "6cdbcd93",
   "metadata": {},
   "outputs": [
    {
     "data": {
      "image/png": "[encoded data removed]",
      "text/plain": [
       "<Figure size 720x720 with 1 Axes>"
      ]
     },
     "metadata": {
      "needs_background": "light"
     },
     "output_type": "display_data"
    }
   ],
   "source": [
    "import numpy as np\n",
    "from scipy.interpolate import interp1d\n",
    "import matplotlib.pyplot as plt\n",
    "\n",
    "def rotate(vector, angle):\n",
    "        rot_matrix = np.array([[np.cos(angle), -np.sin(angle)],[np.sin(angle), np.cos(angle)]])\n",
    "        vector = vector@rot_matrix\n",
    "        return vector\n",
    "\n",
    "def get_dist_vec(focus_pt, robot_pt, norm=True, angle=0):\n",
    "    dist_vec = focus_pt - robot_pt\n",
    "    if norm: \n",
    "        dist_vec = dist_vec / np.linalg.norm(dist_vec)\n",
    "    dist_vec = rotate(dist_vec, angle)\n",
    "    return dist_vec\n",
    "\n",
    "def get_bent(center, box_pos, pos1, pos2):    \n",
    "#     pos_mid = get_dist_vec(box_pos, (pos1+pos2)/2, norm=True, angle=np.pi)\n",
    "#     out = get_dist_vec(box_pos, center, norm=True, angle=np.pi)*1.5\n",
    "#     midpt1 = pos_mid if np.linalg.norm(pos1 - pos_mid) < np.linalg.norm(pos1 - out) else out\n",
    "#     midpt2 = pos_mid if np.linalg.norm(pos1 - pos_mid) >= np.linalg.norm(pos1 - out) else out  \n",
    "\n",
    "    midpt1 = get_dist_vec(box_pos, pos1, norm=True, angle=np.pi)*2\n",
    "    midpt2 = get_dist_vec(box_pos, pos2, norm=True, angle=np.pi)*2\n",
    "    points = np.vstack([pos1 - center, midpt1, midpt2, pos2 - center])\n",
    "\n",
    "    distance = np.cumsum( np.sqrt(np.sum( np.diff(points, axis=0)**2, axis=1 )) )\n",
    "    distance = np.insert(distance, 0, 0)/distance[-1]\n",
    "\n",
    "    alpha = np.linspace(0, 1, 10)\n",
    "    interpolator =  interp1d(distance, points, kind=\"cubic\", axis=0)\n",
    "    interpolated_points = interpolator(alpha)\n",
    "#     interpolated_points = np.clip(interpolated_points, -2.5, 2.5)\n",
    "    return interpolated_points, points\n",
    "    \n",
    "\n",
    "\n",
    "\n",
    "center = np.array([0, -9.665])\n",
    "box_pos = np.array([ 4.3301, -11.695])\n",
    "pos1 = np.array([-0.31988172086214, -11.0647199982142])\n",
    "pos2 = np.array([-0.319897469013958, -8.7700667089591])\n",
    "\n",
    "\n",
    "interpolated_points, points = get_bent(center, box_pos, pos1, pos2)\n",
    "points = np.vstack([points, box_pos-center])\n",
    "\n",
    "plt.figure(figsize=(10,10))\n",
    "plt.plot(*interpolated_points.T, '-', label=\"cubic\")\n",
    "plt.plot(*points.T, 'ok', label='original points');\n",
    "plt.axis('equal'); plt.legend(); plt.xlabel('x'); plt.ylabel('y');\n",
    "# plt.xlim(-3, 3)\n",
    "# plt.ylim(-3,3)"
   ]
  },
  {
   "cell_type": "code",
   "execution_count": null,
   "id": "57949ce2",
   "metadata": {},
   "outputs": [],
   "source": [
    "interpolated_points"
   ]
  },
  {
   "cell_type": "code",
   "execution_count": null,
   "id": "ae8ca750",
   "metadata": {},
   "outputs": [],
   "source": []
  }
 ],
 "metadata": {
  "kernelspec": {
   "display_name": "Python 3 (ipykernel)",
   "language": "python",
   "name": "python3"
  },
  "language_info": {
   "codemirror_mode": {
    "name": "ipython",
    "version": 3
   },
   "file_extension": ".py",
   "mimetype": "text/x-python",
   "name": "python",
   "nbconvert_exporter": "python",
   "pygments_lexer": "ipython3",
   "version": "3.8.12"
  }
 },
 "nbformat": 4,
 "nbformat_minor": 5
}
