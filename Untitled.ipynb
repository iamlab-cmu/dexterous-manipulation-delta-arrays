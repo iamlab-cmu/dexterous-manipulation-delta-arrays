{
 "cells": [
  {
   "cell_type": "code",
   "execution_count": 13,
   "id": "e451328f",
   "metadata": {},
   "outputs": [],
   "source": [
    "import rl_util.env_interaction\n",
    "from rl_util.identity_policy import IdentityLowLevelPolicy\n",
    "import numpy as np\n",
    "from rl_utils.analysis import reps_solve_info_analysis\n",
    "from scipy.stats import norm\n",
    "import pickle\n",
    "import matplotlib.pyplot as plt\n",
    "\n",
    "import delta_array_utils.RealDeltaControl as RDC\n",
    "\n",
    "import pydmps\n",
    "import pydmps.dmp_discrete"
   ]
  },
  {
   "cell_type": "code",
   "execution_count": 2,
   "id": "203b77c2",
   "metadata": {},
   "outputs": [],
   "source": [
    "with open(\"./data/skill3_trained_1.pkl\", \"rb\") as f:\n",
    "    reps_policy_loaded = pickle.load(f)"
   ]
  },
  {
   "cell_type": "code",
   "execution_count": 3,
   "id": "ced24dd4",
   "metadata": {},
   "outputs": [
    {
     "data": {
      "text/plain": [
       "dict_keys(['reps_converged', 'low_level_policy_params_mean', 'low_level_policy_params_var', 'solve_env_info'])"
      ]
     },
     "execution_count": 3,
     "metadata": {},
     "output_type": "execute_result"
    }
   ],
   "source": [
    "reps_policy_loaded.keys()"
   ]
  },
  {
   "cell_type": "code",
   "execution_count": 4,
   "id": "6595a588",
   "metadata": {},
   "outputs": [],
   "source": [
    "mean = reps_policy_loaded['low_level_policy_params_mean']\n",
    "covar = reps_policy_loaded['low_level_policy_params_var']"
   ]
  },
  {
   "cell_type": "code",
   "execution_count": 5,
   "id": "b36bb8b7",
   "metadata": {},
   "outputs": [
    {
     "ename": "OSError",
     "evalue": "[Errno 113] No route to host",
     "output_type": "error",
     "traceback": [
      "\u001b[0;31m---------------------------------------------------------------------------\u001b[0m",
      "\u001b[0;31mOSError\u001b[0m                                   Traceback (most recent call last)",
      "\u001b[0;32m/tmp/ipykernel_162/649293466.py\u001b[0m in \u001b[0;36m<module>\u001b[0;34m\u001b[0m\n\u001b[0;32m----> 1\u001b[0;31m \u001b[0menv\u001b[0m \u001b[0;34m=\u001b[0m \u001b[0mRDC\u001b[0m\u001b[0;34m.\u001b[0m\u001b[0mDeltaRobotEnv\u001b[0m\u001b[0;34m(\u001b[0m\u001b[0;34m\"skill3\"\u001b[0m\u001b[0;34m)\u001b[0m\u001b[0;34m\u001b[0m\u001b[0;34m\u001b[0m\u001b[0m\n\u001b[0m\u001b[1;32m      2\u001b[0m \u001b[0menv\u001b[0m\u001b[0;34m.\u001b[0m\u001b[0mreset\u001b[0m\u001b[0;34m(\u001b[0m\u001b[0;34m)\u001b[0m\u001b[0;34m\u001b[0m\u001b[0;34m\u001b[0m\u001b[0m\n",
      "\u001b[0;32m/mnt/f/Research/dexterous-manipulation-delta-arrays/delta_array_utils/RealDeltaControl.py\u001b[0m in \u001b[0;36m__init__\u001b[0;34m(self, skill)\u001b[0m\n\u001b[1;32m     70\u001b[0m         \u001b[0mself\u001b[0m\u001b[0;34m.\u001b[0m\u001b[0museless_agents\u001b[0m \u001b[0;34m=\u001b[0m \u001b[0;34m[\u001b[0m\u001b[0;34m]\u001b[0m\u001b[0;34m\u001b[0m\u001b[0;34m\u001b[0m\u001b[0m\n\u001b[1;32m     71\u001b[0m         \u001b[0mself\u001b[0m\u001b[0;34m.\u001b[0m\u001b[0museful_agents\u001b[0m \u001b[0;34m=\u001b[0m \u001b[0;34m{\u001b[0m\u001b[0;34m}\u001b[0m\u001b[0;34m\u001b[0m\u001b[0;34m\u001b[0m\u001b[0m\n\u001b[0;32m---> 72\u001b[0;31m         \u001b[0mself\u001b[0m\u001b[0;34m.\u001b[0m\u001b[0msetup_delta_agents\u001b[0m\u001b[0;34m(\u001b[0m\u001b[0;34m)\u001b[0m\u001b[0;34m\u001b[0m\u001b[0;34m\u001b[0m\u001b[0m\n\u001b[0m\u001b[1;32m     73\u001b[0m \u001b[0;34m\u001b[0m\u001b[0m\n\u001b[1;32m     74\u001b[0m     \u001b[0;32mdef\u001b[0m \u001b[0mcontext\u001b[0m\u001b[0;34m(\u001b[0m\u001b[0mself\u001b[0m\u001b[0;34m)\u001b[0m\u001b[0;34m:\u001b[0m\u001b[0;34m\u001b[0m\u001b[0;34m\u001b[0m\u001b[0m\n",
      "\u001b[0;32m/mnt/f/Research/dexterous-manipulation-delta-arrays/delta_array_utils/RealDeltaControl.py\u001b[0m in \u001b[0;36msetup_delta_agents\u001b[0;34m(self)\u001b[0m\n\u001b[1;32m     94\u001b[0m                 \u001b[0mip_addr\u001b[0m \u001b[0;34m=\u001b[0m \u001b[0msrm\u001b[0m\u001b[0;34m.\u001b[0m\u001b[0minv_delta_comm_dict\u001b[0m\u001b[0;34m[\u001b[0m\u001b[0mi\u001b[0m\u001b[0;34m]\u001b[0m\u001b[0;34m\u001b[0m\u001b[0;34m\u001b[0m\u001b[0m\n\u001b[1;32m     95\u001b[0m                 \u001b[0mesp01\u001b[0m \u001b[0;34m=\u001b[0m \u001b[0msocket\u001b[0m\u001b[0;34m.\u001b[0m\u001b[0msocket\u001b[0m\u001b[0;34m(\u001b[0m\u001b[0msocket\u001b[0m\u001b[0;34m.\u001b[0m\u001b[0mAF_INET\u001b[0m\u001b[0;34m,\u001b[0m \u001b[0msocket\u001b[0m\u001b[0;34m.\u001b[0m\u001b[0mSOCK_STREAM\u001b[0m\u001b[0;34m)\u001b[0m\u001b[0;34m\u001b[0m\u001b[0;34m\u001b[0m\u001b[0m\n\u001b[0;32m---> 96\u001b[0;31m                 \u001b[0mesp01\u001b[0m\u001b[0;34m.\u001b[0m\u001b[0mconnect\u001b[0m\u001b[0;34m(\u001b[0m\u001b[0;34m(\u001b[0m\u001b[0mip_addr\u001b[0m\u001b[0;34m,\u001b[0m \u001b[0;36m80\u001b[0m\u001b[0;34m)\u001b[0m\u001b[0;34m)\u001b[0m\u001b[0;34m\u001b[0m\u001b[0;34m\u001b[0m\u001b[0m\n\u001b[0m\u001b[1;32m     97\u001b[0m                 \u001b[0mesp01\u001b[0m\u001b[0;34m.\u001b[0m\u001b[0msettimeout\u001b[0m\u001b[0;34m(\u001b[0m\u001b[0;36m0.1\u001b[0m\u001b[0;34m)\u001b[0m\u001b[0;34m\u001b[0m\u001b[0;34m\u001b[0m\u001b[0m\n\u001b[1;32m     98\u001b[0m                 \u001b[0;32mif\u001b[0m \u001b[0mi\u001b[0m \u001b[0;32mnot\u001b[0m \u001b[0;32min\u001b[0m \u001b[0mself\u001b[0m\u001b[0;34m.\u001b[0m\u001b[0mrobot_ids\u001b[0m\u001b[0;34m:\u001b[0m\u001b[0;34m\u001b[0m\u001b[0;34m\u001b[0m\u001b[0m\n",
      "\u001b[0;31mOSError\u001b[0m: [Errno 113] No route to host"
     ]
    }
   ],
   "source": [
    "env = RDC.DeltaRobotEnv(\"skill3\")\n",
    "env.reset()"
   ]
  },
  {
   "cell_type": "code",
   "execution_count": 8,
   "id": "988954ab",
   "metadata": {
    "scrolled": true
   },
   "outputs": [
    {
     "name": "stdout",
     "output_type": "stream",
     "text": [
      "0.062163389638831223 2.483548435287629 False\n",
      "Resetting Delta Robots...\n",
      "0.07315153149015512 2.451112769954376 False\n",
      "Resetting Delta Robots...\n",
      "0.04272232382716208 1.7802843719646382 False\n",
      "Resetting Delta Robots...\n",
      "0.08024919267813607 2.346269725478607 False\n",
      "Resetting Delta Robots...\n",
      "0.14855869587978204 1.369004822313116 False\n",
      "Resetting Delta Robots...\n",
      "0.04778841047010707 2.5752303526763183 False\n",
      "Resetting Delta Robots...\n",
      "0.05896239234940508 2.416533167723857 False\n",
      "Resetting Delta Robots...\n",
      "0.06710370521051438 1.7436009922413311 False\n",
      "Resetting Delta Robots...\n",
      "0.05299895891952214 1.0726613167083638 False\n",
      "Resetting Delta Robots...\n",
      "0.07470030311077588 2.2913465857577378 False\n",
      "Resetting Delta Robots...\n",
      "0.053575276091572144 2.2768174491242488 False\n",
      "Resetting Delta Robots...\n",
      "0.16256817527478562 0.8087368484330626 False\n",
      "Resetting Delta Robots...\n",
      "0.06358772506590878 1.0063150579189528 False\n",
      "Resetting Delta Robots...\n",
      "0.15579010810166444 1.0468532247423328 False\n",
      "Resetting Delta Robots...\n",
      "0.16595083103105018 0.7541126934558351 False\n",
      "Resetting Delta Robots...\n",
      "0.05576842561824086 2.415015882344213 False\n",
      "Resetting Delta Robots...\n",
      "0.06184640172868435 2.4005101617815345 False\n",
      "Resetting Delta Robots...\n",
      "0.05999850789848159 2.354625821253726 False\n",
      "Resetting Delta Robots...\n",
      "0.06705213680482731 2.3142343820335616 False\n",
      "Resetting Delta Robots...\n",
      "0.07094448604165643 2.3566271454747842 False\n",
      "Resetting Delta Robots...\n",
      "0.14943928425597156 0.7721231131080923 False\n",
      "Resetting Delta Robots...\n",
      "0.056930361378412855 2.309676471683234 False\n",
      "Resetting Delta Robots...\n",
      "0.07686930018161839 2.4004997618636086 False\n",
      "Resetting Delta Robots...\n",
      "0.1437948896946268 1.113496336145287 False\n",
      "Resetting Delta Robots...\n"
     ]
    },
    {
     "ename": "KeyboardInterrupt",
     "evalue": "",
     "output_type": "error",
     "traceback": [
      "\u001b[0;31m---------------------------------------------------------------------------\u001b[0m",
      "\u001b[0;31mKeyboardInterrupt\u001b[0m                         Traceback (most recent call last)",
      "\u001b[0;32m/tmp/ipykernel_217/4174478228.py\u001b[0m in \u001b[0;36m<module>\u001b[0;34m\u001b[0m\n\u001b[1;32m      1\u001b[0m \u001b[0;32mwhile\u001b[0m \u001b[0;32mTrue\u001b[0m\u001b[0;34m:\u001b[0m\u001b[0;34m\u001b[0m\u001b[0;34m\u001b[0m\u001b[0m\n\u001b[1;32m      2\u001b[0m     \u001b[0maction\u001b[0m \u001b[0;34m=\u001b[0m \u001b[0mnp\u001b[0m\u001b[0;34m.\u001b[0m\u001b[0mrandom\u001b[0m\u001b[0;34m.\u001b[0m\u001b[0mmultivariate_normal\u001b[0m\u001b[0;34m(\u001b[0m\u001b[0mmean\u001b[0m\u001b[0;34m=\u001b[0m\u001b[0mmean\u001b[0m\u001b[0;34m,\u001b[0m\u001b[0mcov\u001b[0m\u001b[0;34m=\u001b[0m\u001b[0mcovar\u001b[0m\u001b[0;34m)\u001b[0m\u001b[0;34m\u001b[0m\u001b[0;34m\u001b[0m\u001b[0m\n\u001b[0;32m----> 3\u001b[0;31m     \u001b[0menv\u001b[0m\u001b[0;34m.\u001b[0m\u001b[0mstep\u001b[0m\u001b[0;34m(\u001b[0m\u001b[0maction\u001b[0m\u001b[0;34m)\u001b[0m\u001b[0;34m\u001b[0m\u001b[0;34m\u001b[0m\u001b[0m\n\u001b[0m\u001b[1;32m      4\u001b[0m     \u001b[0menv\u001b[0m\u001b[0;34m.\u001b[0m\u001b[0mreset\u001b[0m\u001b[0;34m(\u001b[0m\u001b[0;34m)\u001b[0m\u001b[0;34m\u001b[0m\u001b[0;34m\u001b[0m\u001b[0m\n",
      "\u001b[0;32m/mnt/f/Research/dexterous-manipulation-delta-arrays/delta_array_utils/RealDeltaControl.py\u001b[0m in \u001b[0;36mstep\u001b[0;34m(self, action)\u001b[0m\n\u001b[1;32m    121\u001b[0m         \u001b[0mself\u001b[0m\u001b[0;34m.\u001b[0m\u001b[0mmove_top_and_bottom_agents\u001b[0m\u001b[0;34m(\u001b[0m\u001b[0;34m)\u001b[0m\u001b[0;34m\u001b[0m\u001b[0;34m\u001b[0m\u001b[0m\n\u001b[1;32m    122\u001b[0m         \u001b[0;31m# print(\"Stepping into Environment...\")\u001b[0m\u001b[0;34m\u001b[0m\u001b[0;34m\u001b[0m\u001b[0;34m\u001b[0m\u001b[0m\n\u001b[0;32m--> 123\u001b[0;31m         \u001b[0mself\u001b[0m\u001b[0;34m.\u001b[0m\u001b[0mwait_until_done\u001b[0m\u001b[0;34m(\u001b[0m\u001b[0;34m)\u001b[0m\u001b[0;34m\u001b[0m\u001b[0;34m\u001b[0m\u001b[0m\n\u001b[0m\u001b[1;32m    124\u001b[0m         \u001b[0;31m# \"\"\" Get Rewards and Plug Into REPS \"\"\"\u001b[0m\u001b[0;34m\u001b[0m\u001b[0;34m\u001b[0m\u001b[0;34m\u001b[0m\u001b[0m\n\u001b[1;32m    125\u001b[0m         \u001b[0mself\u001b[0m\u001b[0;34m.\u001b[0m\u001b[0mget_reward\u001b[0m\u001b[0;34m(\u001b[0m\u001b[0;34m)\u001b[0m\u001b[0;34m\u001b[0m\u001b[0;34m\u001b[0m\u001b[0m\n",
      "\u001b[0;32m/mnt/f/Research/dexterous-manipulation-delta-arrays/delta_array_utils/RealDeltaControl.py\u001b[0m in \u001b[0;36mwait_until_done\u001b[0;34m(self, topandbottom)\u001b[0m\n\u001b[1;32m    170\u001b[0m             \u001b[0;32mfor\u001b[0m \u001b[0mi\u001b[0m \u001b[0;32min\u001b[0m \u001b[0mself\u001b[0m\u001b[0;34m.\u001b[0m\u001b[0mto_be_moved\u001b[0m\u001b[0;34m:\u001b[0m\u001b[0;34m\u001b[0m\u001b[0;34m\u001b[0m\u001b[0m\n\u001b[1;32m    171\u001b[0m                 \u001b[0;32mtry\u001b[0m\u001b[0;34m:\u001b[0m\u001b[0;34m\u001b[0m\u001b[0;34m\u001b[0m\u001b[0m\n\u001b[0;32m--> 172\u001b[0;31m                     \u001b[0mreceived\u001b[0m \u001b[0;34m=\u001b[0m \u001b[0mi\u001b[0m\u001b[0;34m.\u001b[0m\u001b[0mesp01\u001b[0m\u001b[0;34m.\u001b[0m\u001b[0mrecv\u001b[0m\u001b[0;34m(\u001b[0m\u001b[0mBUFFER_SIZE\u001b[0m\u001b[0;34m)\u001b[0m\u001b[0;34m\u001b[0m\u001b[0;34m\u001b[0m\u001b[0m\n\u001b[0m\u001b[1;32m    173\u001b[0m                     \u001b[0mret\u001b[0m \u001b[0;34m=\u001b[0m \u001b[0mreceived\u001b[0m\u001b[0;34m.\u001b[0m\u001b[0mdecode\u001b[0m\u001b[0;34m(\u001b[0m\u001b[0;34m)\u001b[0m\u001b[0;34m.\u001b[0m\u001b[0mstrip\u001b[0m\u001b[0;34m(\u001b[0m\u001b[0;34m)\u001b[0m\u001b[0;34m\u001b[0m\u001b[0;34m\u001b[0m\u001b[0m\n\u001b[1;32m    174\u001b[0m                     \u001b[0;32mif\u001b[0m \u001b[0mret\u001b[0m \u001b[0;34m==\u001b[0m \u001b[0;34m\"A\"\u001b[0m\u001b[0;34m:\u001b[0m\u001b[0;34m\u001b[0m\u001b[0;34m\u001b[0m\u001b[0m\n",
      "\u001b[0;31mKeyboardInterrupt\u001b[0m: "
     ]
    },
    {
     "data": {
      "image/png": "[encoded data removed]",
      "text/plain": [
       "<Figure size 432x288 with 1 Axes>"
      ]
     },
     "metadata": {
      "needs_background": "light"
     },
     "output_type": "display_data"
    }
   ],
   "source": [
    "while True:\n",
    "    action = np.random.multivariate_normal(mean=mean,cov=covar)\n",
    "    env.step(action)\n",
    "    env.reset()"
   ]
  },
  {
   "cell_type": "code",
   "execution_count": null,
   "id": "eac84463",
   "metadata": {},
   "outputs": [],
   "source": []
  },
  {
   "cell_type": "code",
   "execution_count": 22,
   "id": "c9e67a37",
   "metadata": {},
   "outputs": [],
   "source": [
    "rot_30 = np.pi/6\n",
    "low_z = 12.2\n",
    "high_z = 5.5\n",
    "\n",
    "def rotate(vector, angle, plot=False):\n",
    "    # Rotation from Delta Array axis to cartesian axis = 30 degrees. \n",
    "    rot_matrix = np.array([[np.cos(angle), -np.sin(angle)],[np.sin(angle), np.cos(angle)]])\n",
    "    vector = vector@rot_matrix\n",
    "    return vector\n",
    "\n",
    "def DMP_trajectory(curve):\n",
    "    DMP = pydmps.dmp_discrete.DMPs_discrete(n_dmps=2, n_bfs=20, ay=np.ones(2) * 10.0)\n",
    "    DMP.imitate_path(y_des=curve)\n",
    "    trajectory, _, _ = DMP.rollout(tau=1)\n",
    "    trajectory = trajectory[::5]\n",
    "    return trajectory\n",
    "\n",
    "def Bezier_Curve(p1, p2, p3, p4):\n",
    "    points = np.array((p1, p2, p3, p4))\n",
    "    curve = np.array([(1-t)**3*p1 + 3*t*(1-t)**2*p2 + 3*t**2*(1-t)*p3 + t**3*p4 for t in np.linspace(0, 1, 20)]).T\n",
    "    skill_traj = DMP_trajectory(curve)\n",
    "    assert len(skill_traj) == 20\n",
    "    \n",
    "    plt.plot(curve[0], curve[1])\n",
    "    plt.scatter(points[:, 0], points[:, 1])\n",
    "#     plt.savefig(f\"./traj_imgs/{len(os.listdir('./traj_imgs'))}.png\")\n",
    "    return skill_traj\n",
    "\n",
    "def generate_trajectory(action, skill):\n",
    "    skill_traj = list(np.zeros((20,3)))\n",
    "    skill_hold_traj = list(np.zeros((20,3)))\n",
    "\n",
    "    if skill == \"skill1\":\n",
    "        y1, y2 = (action[0] + 1)/2*0.01 + 0, (action[1] + 1)/2*0.005 - 0.005\n",
    "\n",
    "        \"\"\" Generate linear trajectory using goal given by REPS for front and back grippers \"\"\" \n",
    "        skill_traj = np.linspace([0, 0], [y1, 0], 20)\n",
    "        skill_hold_traj = np.linspace([0, 0], [y2, 0], 20)\n",
    "#         pickle.dump([y1, y2], open(\"./data/real_skill1_vars.pkl\", \"wb\"))\n",
    "    elif skill == \"skill2\":\n",
    "        x1, y1 = (action[0] + 1)/2*-1.5 + 0, (action[1] + 1)/2*1 + 0\n",
    "        x2, y2 = (action[2] + 1)/2*-2.3 + 0, (action[3] + 1)/2*1 + 0\n",
    "        x3, y3 = (action[4] + 1)/2*-2.2 - 0.25, (action[5] + 1)/2*4 + 0.5\n",
    "\n",
    "        \"\"\" Uncomment or comment based on whether learning skill1 is required \"\"\"\n",
    "        x0, y0 = 0, 0\n",
    "\n",
    "        \"\"\" Generate Bezier curve trajectory using REPS variables and smoothen trajectory using DMP \"\"\"\n",
    "        skill_traj = self.Bezier_Curve(np.array([x0, y0]), np.array([x1, y1]), np.array([x2, y2]), np.array([x3, y3]))\n",
    "        skill_traj[:, 1] = np.clip(skill_traj[:, 1], -0.1, 6)\n",
    "        skill_traj[:, 0] = np.clip(skill_traj[:, 0], -2.5, 2.5)\n",
    "        for i in range(20):\n",
    "            xy = self.rotate(np.array((0,0)) - np.array((skill_traj[i][0], rot_30)), 0)\n",
    "            skill_traj[i] = [*xy, low_z - skill_traj[i][1]]\n",
    "        skill_hold_traj = np.linspace([0, 0], [prev_y1, 0], 20)\n",
    "\n",
    "    elif skill == \"skill3\":\n",
    "        # Left grippers\n",
    "        x1, y1 = (action[0] + 1)/2*-0.6 + 0, (action[1] + 1)/2*0.0 + 0\n",
    "        x2, y2 = (action[2] + 1)/2*-1.2 + 0, (action[3] + 1)/2*0.0 + 0\n",
    "        x3, y3 = (action[4] + 1)/2*-1.3 - 0.25, (action[5] + 1)/2*2 + 0.5\n",
    "        x0, y0 = 0.0, 0.0\n",
    "        left_skill_traj = Bezier_Curve(np.array([x0, y0]), np.array([x1, y1]), np.array([x2, y2]), np.array([x3, y3]))\n",
    "        left_skill_traj[:, 1] = np.clip(left_skill_traj[:, 1], -0.1, 6)\n",
    "        left_skill_traj[:, 0] = np.clip(left_skill_traj[:, 0], -2.5, 2.5)\n",
    "        # Right grippers\n",
    "        x1, y1 = (action[0] + 1)/2*0.6 + 0, (action[1] + 1)/2*0.5 + 0\n",
    "        x2, y2 = (action[2] + 1)/2*1.2 + 0, (action[3] + 1)/2*0.5 + 0\n",
    "        x3, y3 = (action[4] + 1)/2*1.3 + 0.25, (action[5] + 1)/2*3 + 0.5\n",
    "        x0, y0 = 0.0, 0.0\n",
    "        right_skill_traj = Bezier_Curve(np.array([x0, y0]), np.array([x1, y1]), np.array([x2, y2]), np.array([x3, y3]))\n",
    "        right_skill_traj[:, 1] = np.clip(right_skill_traj[:, 1], -0.2, 6)\n",
    "        right_skill_traj[:, 0] = np.clip(right_skill_traj[:, 0], -2.5, 2.5)\n",
    "\n",
    "        for i in range(20):\n",
    "            xy = rotate(np.array((0,0)) - np.array((left_skill_traj[i][0], rot_30)), 0)\n",
    "            skill_traj[i] = [*xy, low_z - left_skill_traj[i][1]]\n",
    "\n",
    "            xy = rotate(np.array((0,0)) - np.array((right_skill_traj[i][0], rot_30)), 0)\n",
    "            skill_hold_traj[i] = [*xy, low_z - right_skill_traj[i][1]]\n",
    "\n",
    "    else:\n",
    "        raise ValueError(\"Invalid skill Skill can be either skill1 or skill2\")\n",
    "    return skill_traj"
   ]
  },
  {
   "cell_type": "code",
   "execution_count": 23,
   "id": "1fad2360",
   "metadata": {},
   "outputs": [
    {
     "data": {
      "text/plain": [
       "[[0.0012993778983634763, -0.5235987755982988, 12.2001595082625],\n",
       " [0.02431510295357648, -0.5235987755982988, 12.201572669850615],\n",
       " [0.06893204933808428, -0.5235987755982988, 12.200691300958496],\n",
       " [0.12952052727413474, -0.5235987755982988, 12.194693331215744],\n",
       " [0.20229373935717573, -0.5235987755982988, 12.182002179493686],\n",
       " [0.28424924572379173, -0.5235987755982988, 12.161551945387231],\n",
       " [0.37261725396096557, -0.5235987755982988, 12.132388570460279],\n",
       " [0.46465505894317227, -0.5235987755982988, 12.093503949164198],\n",
       " [0.5575945233829457, -0.5235987755982988, 12.043793733693589],\n",
       " [0.6486388965486422, -0.5235987755982988, 11.98206980781886],\n",
       " [0.7349787840405556, -0.5235987755982988, 11.90710060182216],\n",
       " [0.8138317323634067, -0.5235987755982988, 11.817682744535857],\n",
       " [0.882523740316103, -0.5235987755982988, 11.712764618326295],\n",
       " [0.9386325822351846, -0.5235987755982988, 11.591643976538865],\n",
       " [0.9802039143078025, -0.5235987755982988, 11.454251659411957],\n",
       " [1.0060356125564118, -0.5235987755982988, 11.30152024644078],\n",
       " [1.0159882583156168, -0.5235987755982988, 11.135782130991075],\n",
       " [1.0111924316483039, -0.5235987755982988, 10.960988514796776],\n",
       " [0.9939720659460035, -0.5235987755982988, 10.782457510650541],\n",
       " [0.9674393419836608, -0.5235987755982988, 10.606114772087544]]"
      ]
     },
     "execution_count": 23,
     "metadata": {},
     "output_type": "execute_result"
    },
    {
     "data": {
      "image/png": "[encoded data removed]",
      "text/plain": [
       "<Figure size 432x288 with 1 Axes>"
      ]
     },
     "metadata": {
      "needs_background": "light"
     },
     "output_type": "display_data"
    }
   ],
   "source": [
    "\n",
    "action = np.random.multivariate_normal(mean=mean,cov=covar)\n",
    "generate_trajectory(action, \"skill3\")"
   ]
  },
  {
   "cell_type": "code",
   "execution_count": null,
   "id": "2303c8ed",
   "metadata": {},
   "outputs": [],
   "source": []
  }
 ],
 "metadata": {
  "kernelspec": {
   "display_name": "py38",
   "language": "python",
   "name": "python3"
  },
  "language_info": {
   "codemirror_mode": {
    "name": "ipython",
    "version": 3
   },
   "file_extension": ".py",
   "mimetype": "text/x-python",
   "name": "python",
   "nbconvert_exporter": "python",
   "pygments_lexer": "ipython3",
   "version": "3.8.12"
  },
  "vscode": {
   "interpreter": {
    "hash": "3d0a773d5093ef75d122c4ec21e5f5538cf4da57e80ceecd4eab7c89ad0c1df6"
   }
  }
 },
 "nbformat": 4,
 "nbformat_minor": 5
}
