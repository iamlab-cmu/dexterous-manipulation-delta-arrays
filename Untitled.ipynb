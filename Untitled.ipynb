{
 "cells": [
  {
   "cell_type": "code",
   "execution_count": 1,
   "id": "e451328f",
   "metadata": {},
   "outputs": [],
   "source": [
    "import rl_util.env_interaction\n",
    "from rl_util.identity_policy import IdentityLowLevelPolicy\n",
    "import numpy as np\n",
    "from rl_utils.analysis import reps_solve_info_analysis\n",
    "from scipy.stats import norm\n",
    "import pickle\n",
    "import delta_array_utils.RealDeltaControl as RDC"
   ]
  },
  {
   "cell_type": "code",
   "execution_count": 2,
   "id": "203b77c2",
   "metadata": {},
   "outputs": [],
   "source": [
    "with open(\"./data/skill3_trained_1.pkl\", \"rb\") as f:\n",
    "    reps_policy_loaded = pickle.load(f)"
   ]
  },
  {
   "cell_type": "code",
   "execution_count": 3,
   "id": "6595a588",
   "metadata": {},
   "outputs": [],
   "source": [
    "mean = reps_policy_loaded['low_level_policy_params_mean']\n",
    "covar = reps_policy_loaded['low_level_policy_params_var']"
   ]
  },
  {
   "cell_type": "code",
   "execution_count": 7,
   "id": "b36bb8b7",
   "metadata": {},
   "outputs": [
    {
     "name": "stdout",
     "output_type": "stream",
     "text": [
      "Initializing Delta Robots...\n",
      "Resetting Delta Robots...\n"
     ]
    }
   ],
   "source": [
    "env = RDC.DeltaRobotEnv(\"skill3\")\n",
    "env.reset()"
   ]
  },
  {
   "cell_type": "code",
   "execution_count": null,
   "id": "d3c3b23e",
   "metadata": {},
   "outputs": [],
   "source": []
  },
  {
   "cell_type": "code",
   "execution_count": null,
   "id": "b3bbe2ad",
   "metadata": {},
   "outputs": [],
   "source": [
    "action"
   ]
  },
  {
   "cell_type": "code",
   "execution_count": 8,
   "id": "988954ab",
   "metadata": {},
   "outputs": [
    {
     "name": "stdout",
     "output_type": "stream",
     "text": [
      "0.062163389638831223 2.483548435287629 False\n",
      "Resetting Delta Robots...\n",
      "0.07315153149015512 2.451112769954376 False\n",
      "Resetting Delta Robots...\n",
      "0.04272232382716208 1.7802843719646382 False\n",
      "Resetting Delta Robots...\n",
      "0.08024919267813607 2.346269725478607 False\n",
      "Resetting Delta Robots...\n",
      "0.14855869587978204 1.369004822313116 False\n",
      "Resetting Delta Robots...\n",
      "0.04778841047010707 2.5752303526763183 False\n",
      "Resetting Delta Robots...\n",
      "0.05896239234940508 2.416533167723857 False\n",
      "Resetting Delta Robots...\n",
      "0.06710370521051438 1.7436009922413311 False\n",
      "Resetting Delta Robots...\n",
      "0.05299895891952214 1.0726613167083638 False\n",
      "Resetting Delta Robots...\n",
      "0.07470030311077588 2.2913465857577378 False\n",
      "Resetting Delta Robots...\n",
      "0.053575276091572144 2.2768174491242488 False\n",
      "Resetting Delta Robots...\n",
      "0.16256817527478562 0.8087368484330626 False\n",
      "Resetting Delta Robots...\n",
      "0.06358772506590878 1.0063150579189528 False\n",
      "Resetting Delta Robots...\n",
      "0.15579010810166444 1.0468532247423328 False\n",
      "Resetting Delta Robots...\n",
      "0.16595083103105018 0.7541126934558351 False\n",
      "Resetting Delta Robots...\n",
      "0.05576842561824086 2.415015882344213 False\n",
      "Resetting Delta Robots...\n",
      "0.06184640172868435 2.4005101617815345 False\n",
      "Resetting Delta Robots...\n",
      "0.05999850789848159 2.354625821253726 False\n",
      "Resetting Delta Robots...\n",
      "0.06705213680482731 2.3142343820335616 False\n",
      "Resetting Delta Robots...\n",
      "0.07094448604165643 2.3566271454747842 False\n",
      "Resetting Delta Robots...\n",
      "0.14943928425597156 0.7721231131080923 False\n",
      "Resetting Delta Robots...\n",
      "0.056930361378412855 2.309676471683234 False\n",
      "Resetting Delta Robots...\n",
      "0.07686930018161839 2.4004997618636086 False\n",
      "Resetting Delta Robots...\n",
      "0.1437948896946268 1.113496336145287 False\n",
      "Resetting Delta Robots...\n"
     ]
    },
    {
     "ename": "KeyboardInterrupt",
     "evalue": "",
     "output_type": "error",
     "traceback": [
      "\u001b[0;31m---------------------------------------------------------------------------\u001b[0m",
      "\u001b[0;31mKeyboardInterrupt\u001b[0m                         Traceback (most recent call last)",
      "\u001b[0;32m/tmp/ipykernel_217/4174478228.py\u001b[0m in \u001b[0;36m<module>\u001b[0;34m\u001b[0m\n\u001b[1;32m      1\u001b[0m \u001b[0;32mwhile\u001b[0m \u001b[0;32mTrue\u001b[0m\u001b[0;34m:\u001b[0m\u001b[0;34m\u001b[0m\u001b[0;34m\u001b[0m\u001b[0m\n\u001b[1;32m      2\u001b[0m     \u001b[0maction\u001b[0m \u001b[0;34m=\u001b[0m \u001b[0mnp\u001b[0m\u001b[0;34m.\u001b[0m\u001b[0mrandom\u001b[0m\u001b[0;34m.\u001b[0m\u001b[0mmultivariate_normal\u001b[0m\u001b[0;34m(\u001b[0m\u001b[0mmean\u001b[0m\u001b[0;34m=\u001b[0m\u001b[0mmean\u001b[0m\u001b[0;34m,\u001b[0m\u001b[0mcov\u001b[0m\u001b[0;34m=\u001b[0m\u001b[0mcovar\u001b[0m\u001b[0;34m)\u001b[0m\u001b[0;34m\u001b[0m\u001b[0;34m\u001b[0m\u001b[0m\n\u001b[0;32m----> 3\u001b[0;31m     \u001b[0menv\u001b[0m\u001b[0;34m.\u001b[0m\u001b[0mstep\u001b[0m\u001b[0;34m(\u001b[0m\u001b[0maction\u001b[0m\u001b[0;34m)\u001b[0m\u001b[0;34m\u001b[0m\u001b[0;34m\u001b[0m\u001b[0m\n\u001b[0m\u001b[1;32m      4\u001b[0m     \u001b[0menv\u001b[0m\u001b[0;34m.\u001b[0m\u001b[0mreset\u001b[0m\u001b[0;34m(\u001b[0m\u001b[0;34m)\u001b[0m\u001b[0;34m\u001b[0m\u001b[0;34m\u001b[0m\u001b[0m\n",
      "\u001b[0;32m/mnt/f/Research/dexterous-manipulation-delta-arrays/delta_array_utils/RealDeltaControl.py\u001b[0m in \u001b[0;36mstep\u001b[0;34m(self, action)\u001b[0m\n\u001b[1;32m    121\u001b[0m         \u001b[0mself\u001b[0m\u001b[0;34m.\u001b[0m\u001b[0mmove_top_and_bottom_agents\u001b[0m\u001b[0;34m(\u001b[0m\u001b[0;34m)\u001b[0m\u001b[0;34m\u001b[0m\u001b[0;34m\u001b[0m\u001b[0m\n\u001b[1;32m    122\u001b[0m         \u001b[0;31m# print(\"Stepping into Environment...\")\u001b[0m\u001b[0;34m\u001b[0m\u001b[0;34m\u001b[0m\u001b[0;34m\u001b[0m\u001b[0m\n\u001b[0;32m--> 123\u001b[0;31m         \u001b[0mself\u001b[0m\u001b[0;34m.\u001b[0m\u001b[0mwait_until_done\u001b[0m\u001b[0;34m(\u001b[0m\u001b[0;34m)\u001b[0m\u001b[0;34m\u001b[0m\u001b[0;34m\u001b[0m\u001b[0m\n\u001b[0m\u001b[1;32m    124\u001b[0m         \u001b[0;31m# \"\"\" Get Rewards and Plug Into REPS \"\"\"\u001b[0m\u001b[0;34m\u001b[0m\u001b[0;34m\u001b[0m\u001b[0;34m\u001b[0m\u001b[0m\n\u001b[1;32m    125\u001b[0m         \u001b[0mself\u001b[0m\u001b[0;34m.\u001b[0m\u001b[0mget_reward\u001b[0m\u001b[0;34m(\u001b[0m\u001b[0;34m)\u001b[0m\u001b[0;34m\u001b[0m\u001b[0;34m\u001b[0m\u001b[0m\n",
      "\u001b[0;32m/mnt/f/Research/dexterous-manipulation-delta-arrays/delta_array_utils/RealDeltaControl.py\u001b[0m in \u001b[0;36mwait_until_done\u001b[0;34m(self, topandbottom)\u001b[0m\n\u001b[1;32m    170\u001b[0m             \u001b[0;32mfor\u001b[0m \u001b[0mi\u001b[0m \u001b[0;32min\u001b[0m \u001b[0mself\u001b[0m\u001b[0;34m.\u001b[0m\u001b[0mto_be_moved\u001b[0m\u001b[0;34m:\u001b[0m\u001b[0;34m\u001b[0m\u001b[0;34m\u001b[0m\u001b[0m\n\u001b[1;32m    171\u001b[0m                 \u001b[0;32mtry\u001b[0m\u001b[0;34m:\u001b[0m\u001b[0;34m\u001b[0m\u001b[0;34m\u001b[0m\u001b[0m\n\u001b[0;32m--> 172\u001b[0;31m                     \u001b[0mreceived\u001b[0m \u001b[0;34m=\u001b[0m \u001b[0mi\u001b[0m\u001b[0;34m.\u001b[0m\u001b[0mesp01\u001b[0m\u001b[0;34m.\u001b[0m\u001b[0mrecv\u001b[0m\u001b[0;34m(\u001b[0m\u001b[0mBUFFER_SIZE\u001b[0m\u001b[0;34m)\u001b[0m\u001b[0;34m\u001b[0m\u001b[0;34m\u001b[0m\u001b[0m\n\u001b[0m\u001b[1;32m    173\u001b[0m                     \u001b[0mret\u001b[0m \u001b[0;34m=\u001b[0m \u001b[0mreceived\u001b[0m\u001b[0;34m.\u001b[0m\u001b[0mdecode\u001b[0m\u001b[0;34m(\u001b[0m\u001b[0;34m)\u001b[0m\u001b[0;34m.\u001b[0m\u001b[0mstrip\u001b[0m\u001b[0;34m(\u001b[0m\u001b[0;34m)\u001b[0m\u001b[0;34m\u001b[0m\u001b[0;34m\u001b[0m\u001b[0m\n\u001b[1;32m    174\u001b[0m                     \u001b[0;32mif\u001b[0m \u001b[0mret\u001b[0m \u001b[0;34m==\u001b[0m \u001b[0;34m\"A\"\u001b[0m\u001b[0;34m:\u001b[0m\u001b[0;34m\u001b[0m\u001b[0;34m\u001b[0m\u001b[0m\n",
      "\u001b[0;31mKeyboardInterrupt\u001b[0m: "
     ]
    },
    {
     "data": {
      "image/png": "[encoded data removed]",
      "text/plain": [
       "<Figure size 432x288 with 1 Axes>"
      ]
     },
     "metadata": {
      "needs_background": "light"
     },
     "output_type": "display_data"
    }
   ],
   "source": [
    "while True:\n",
    "    action = np.random.multivariate_normal(mean=mean,cov=covar)\n",
    "    env.step(action)\n",
    "    env.reset()"
   ]
  },
  {
   "cell_type": "code",
   "execution_count": null,
   "id": "eac84463",
   "metadata": {},
   "outputs": [],
   "source": []
  }
 ],
 "metadata": {
  "kernelspec": {
   "display_name": "Python 3 (ipykernel)",
   "language": "python",
   "name": "python3"
  },
  "language_info": {
   "codemirror_mode": {
    "name": "ipython",
    "version": 3
   },
   "file_extension": ".py",
   "mimetype": "text/x-python",
   "name": "python",
   "nbconvert_exporter": "python",
   "pygments_lexer": "ipython3",
   "version": "3.8.12"
  }
 },
 "nbformat": 4,
 "nbformat_minor": 5
}
