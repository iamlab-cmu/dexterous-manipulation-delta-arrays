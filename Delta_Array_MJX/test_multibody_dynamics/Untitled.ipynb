{
 "cells": [
  {
   "cell_type": "code",
   "execution_count": 1,
   "id": "561111b4",
   "metadata": {},
   "outputs": [],
   "source": [
    "import numpy as np\n",
    "import matplotlib.pyplot as plt\n",
    "import pickle as pkl"
   ]
  },
  {
   "cell_type": "code",
   "execution_count": 37,
   "id": "d60b7ea0",
   "metadata": {},
   "outputs": [
    {
     "data": {
      "text/plain": [
       "<matplotlib.quiver.Quiver at 0x7fd5048d9480>"
      ]
     },
     "execution_count": 37,
     "metadata": {},
     "output_type": "execute_result"
    },
    {
     "data": {
      "image/png": "[encoded data removed]",
      "text/plain": [
       "<Figure size 640x480 with 1 Axes>"
      ]
     },
     "metadata": {},
     "output_type": "display_data"
    }
   ],
   "source": [
    "data = pkl.load(open('data.pkl', 'rb'))\n",
    "init_poses = data['init_poses']\n",
    "final_poses = data['final_poses']\n",
    "forces = data['forces']\n",
    "force_idxs = np.array(data['force_idxs'], dtype=int)\n",
    "unique_elements = np.unique(init_poses[:, 0])\n",
    "\n",
    "\n",
    "idx = 400\n",
    "plt.scatter(init_poses[idx, ::2], init_poses[idx, 1::2], c='r', alpha=0.3, label='init_poses')\n",
    "plt.scatter(final_poses[idx, ::2], final_poses[idx, 1::2], c='g', alpha=0.3, label='init_poses')\n",
    "plt.quiver(init_poses[idx, 2*force_idxs[idx, 0]], init_poses[idx, 2*force_idxs[idx, 0]+1], \n",
    "                forces[idx, 0], forces[idx, 1], color='b', label='forces')"
   ]
  },
  {
   "cell_type": "code",
   "execution_count": null,
   "id": "79c1bcee",
   "metadata": {},
   "outputs": [],
   "source": [
    "import torch\n",
    "from torch import nn\n",
    "from torch.utils.data import Dataset, DataLoader\n",
    "from diffusers import DDPMScheduler\n",
    "\n",
    "class "
   ]
  },
  {
   "cell_type": "code",
   "execution_count": null,
   "id": "b0711ec3",
   "metadata": {},
   "outputs": [],
   "source": [
    "init_poses = torch.tensor(init_poses, dtype=torch.float32)\n",
    "final_poses = torch.tensor(final_poses, dtype=torch.float32)\n",
    "forces = torch.tensor(forces, dtype=torch.float32)\n",
    "force_idxs = torch.tensor(force_idxs, dtype=torch.float32)\n",
    "\n",
    "num_epochs = 100\n",
    "batch_size = 32\n",
    "idxs = np.arange(num_samples)\n",
    "for epoch in range(num_epochs):\n",
    "    np.random.shuffle(idxs)\n",
    "    for i in range(0, num_samples, batch_size):\n",
    "        idxs = idxs[i:i+batch_size]\n",
    "        ip0 = init_poses[idxs].to(device)\n",
    "        ip1 = forces[idxs].to(device)\n",
    "        ip2 = force_idxs[idxs].to(device)\n",
    "        tgt = final_poses[idxs].to(device)\n",
    "\n",
    "        inputs = torch.cat((ip0, ip1, ip2), dim=1)\n",
    "\n",
    "        optimizer.zero_grad()\n",
    "        outputs = genM(inputs)\n",
    "        loss = criterion(outputs, tgt)\n",
    "        loss.backward()\n",
    "        optimizer.step()\n",
    "\n",
    "    if epoch % 10 == 0:\n",
    "        print(f\"Epoch [{epoch+1}/{num_epochs}], Loss: {loss.item():.4f}\")\n"
   ]
  }
 ],
 "metadata": {
  "kernelspec": {
   "display_name": "Python 3 (ipykernel)",
   "language": "python",
   "name": "python3"
  },
  "language_info": {
   "codemirror_mode": {
    "name": "ipython",
    "version": 3
   },
   "file_extension": ".py",
   "mimetype": "text/x-python",
   "name": "python",
   "nbconvert_exporter": "python",
   "pygments_lexer": "ipython3",
   "version": "3.10.11"
  }
 },
 "nbformat": 4,
 "nbformat_minor": 5
}
