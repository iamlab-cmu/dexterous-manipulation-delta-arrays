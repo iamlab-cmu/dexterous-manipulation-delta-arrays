{
 "cells": [
  {
   "cell_type": "code",
   "execution_count": 7,
   "id": "e16436d5-df03-4399-a98d-ed403e797a48",
   "metadata": {},
   "outputs": [
    {
     "data": {
      "image/png": "[encoded data removed]",
      "text/plain": [
       "<Figure size 640x480 with 1 Axes>"
      ]
     },
     "metadata": {},
     "output_type": "display_data"
    }
   ],
   "source": [
    "import matplotlib.pyplot as plt\n",
    "import numpy as np\n",
    "\n",
    "def plot_nearby_points(boundary_points, given_point, distance_threshold=10):\n",
    "    \"\"\"\n",
    "    Plot boundary points that are within a specified distance from a given point.\n",
    "\n",
    "    Args:\n",
    "    - boundary_points: 2D array of boundary points\n",
    "    - given_point: A point [x, y]\n",
    "    - distance_threshold: Distance within which to select and plot boundary points\n",
    "    \"\"\"\n",
    "\n",
    "    boundary_points_array = np.array(boundary_points)\n",
    "    given_point_array = np.array(given_point)\n",
    "\n",
    "    # Calculate Euclidean distance between the given point and each boundary point\n",
    "    distances = np.linalg.norm(boundary_points_array - given_point_array, axis=1)\n",
    "\n",
    "    # Select boundary points within the distance threshold\n",
    "    nearby_points = boundary_points_array[distances < distance_threshold]\n",
    "\n",
    "    # Plot the given point\n",
    "    plt.scatter(given_point[0], given_point[1], color='red', s=50, label='Given Point')\n",
    "\n",
    "    # Plot the nearby boundary points\n",
    "    plt.scatter(nearby_points[:, 0], nearby_points[:, 1], color='blue', s=10, label='Nearby Boundary Points')\n",
    "\n",
    "    plt.legend()\n",
    "    plt.show()\n",
    "\n",
    "# Example data\n",
    "boundary_points = [[1, 1], [2, 3], [3, 5], [9, 9], [10, 10], [11, 11], [12, 12]]\n",
    "given_point = [10, 10]\n",
    "\n",
    "plot_nearby_points(boundary_points, given_point, distance_threshold=10)"
   ]
  },
  {
   "cell_type": "code",
   "execution_count": 2,
   "id": "1b495e17",
   "metadata": {},
   "outputs": [],
   "source": [
    "import numpy as np\n",
    "import matplotlib.pyplot as plt\n",
    "# Cosine Similarity between cropped edges of images\n",
    "import cv2\n",
    "import torch\n",
    "import torchvision.transforms as transforms\n",
    "from torchvision.models import resnet18\n",
    "from scipy.spatial.distance import cosine\n",
    "from PIL import Image\n",
    "from scipy import spatial\n",
    "from sklearn.cluster import KMeans\n",
    "from scipy.spatial import ConvexHull\n",
    "from scipy.interpolate import interp1d\n",
    "\n",
    "\n",
    "np.set_printoptions(precision=3)"
   ]
  },
  {
   "cell_type": "code",
   "execution_count": 33,
   "id": "3fa51ce1",
   "metadata": {},
   "outputs": [
    {
     "data": {
      "text/plain": [
       "(<matplotlib.image.AxesImage at 0x7efe5b0a5df0>, (224, 224, 3))"
      ]
     },
     "execution_count": 33,
     "metadata": {},
     "output_type": "execute_result"
    },
    {
     "data": {
      "image/png": "[encoded data removed]",
      "text/plain": [
       "<Figure size 432x288 with 1 Axes>"
      ]
     },
     "metadata": {
      "needs_background": "light"
     },
     "output_type": "display_data"
    }
   ],
   "source": [
    "rectangle_img = np.zeros((1080, 1920))\n",
    "rectangle_img[450:650, 800:1100] = 1\n",
    "corners = [(450, 800), (450, 1100), (650, 800), (650, 1100)]\n",
    "\n",
    "cols = np.random.rand(3)\n",
    "for corner in corners:\n",
    "    img_patch = rectangle_img[corner[0]-112:corner[0]+112, corner[1]-112:corner[1]+112]\n",
    "    img_patch = np.dstack((img_patch, img_patch, img_patch))*cols\n",
    "plt.imshow(img_patch), img_patch.shape"
   ]
  },
  {
   "cell_type": "code",
   "execution_count": 26,
   "id": "3704232f",
   "metadata": {},
   "outputs": [
    {
     "name": "stdout",
     "output_type": "stream",
     "text": [
      "tensor([[1.0000, 0.9576, 0.9331, 0.9239],\n",
      "        [0.9576, 1.0000, 0.9223, 0.9386],\n",
      "        [0.9331, 0.9223, 1.0000, 0.9707],\n",
      "        [0.9239, 0.9386, 0.9707, 1.0000]])\n"
     ]
    }
   ],
   "source": [
    "# Load the pretrained ResNet model\n",
    "model = resnet18(pretrained=True)\n",
    "model = torch.nn.Sequential(*list(model.children())[:-1])\n",
    "model.eval()\n",
    "\n",
    "# Load an image of a rectangle\n",
    "image = rectangle_img\n",
    "\n",
    "# Define the corners' coordinates\n",
    "corners = [(450, 800), (450, 1100), (650, 800), (650, 1100)]\n",
    "\n",
    "# Preprocess the images and pass through the ResNet model\n",
    "transform = transforms.Compose([\n",
    "    transforms.Resize(224),\n",
    "    transforms.ToTensor(),\n",
    "    transforms.Normalize(mean=[0.485, 0.456, 0.406], std=[0.229, 0.224, 0.225]),\n",
    "])\n",
    "\n",
    "corner_features = []\n",
    "with torch.no_grad():\n",
    "    for corner in corners:\n",
    "        # Crop the corner from the image\n",
    "        corner_img = image[corner[0]-112:corner[0]+112, corner[1]-112:corner[1]+112]\n",
    "        corner_img = np.dstack((corner_img*0.8, corner_img*1, corner_img*0.1))\n",
    "        corner_img = Image.fromarray(np.uint8(corner_img*255))\n",
    "        corner_img = transform(corner_img).unsqueeze(0)\n",
    "        \n",
    "        # Forward pass through ResNet\n",
    "        corner_feature = model(corner_img)\n",
    "        corner_features.append(corner_feature.squeeze())\n",
    "\n",
    "# Compute cosine similarity scores\n",
    "similarity_matrix = torch.zeros((4, 4))\n",
    "for i in range(4):\n",
    "    for j in range(4):\n",
    "        similarity_matrix[i, j] = 1 - cosine(corner_features[i], corner_features[j])\n",
    "\n",
    "print(similarity_matrix)"
   ]
  },
  {
   "cell_type": "code",
   "execution_count": null,
   "id": "59ace588",
   "metadata": {},
   "outputs": [],
   "source": [
    "def pixel_to_xy(points, origin_pixel, scale_factors):\n",
    "    \"\"\"\n",
    "    Convert an array of 2D points from pixel space to 2D XY-space.\n",
    "\n",
    "    Args:\n",
    "    points (list of tuples): List of (x_pixel, y_pixel) pixel coordinates.\n",
    "    origin_pixel (tuple): (x_origin, y_origin) pixel coordinates of the origin.\n",
    "    scale_factors (tuple): (x_scale, y_scale) scale factors for X and Y axes.\n",
    "\n",
    "    Returns:\n",
    "    list of tuples: List of (x_xy, y_xy) XY-space coordinates.\n",
    "    \"\"\"\n",
    "    xy_points = []\n",
    "    for x_pixel, y_pixel in points:\n",
    "        x_xy = (x_pixel - origin_pixel[0]) * scale_factors[0]\n",
    "        y_xy = (origin_pixel[1] - y_pixel) * scale_factors[1]\n",
    "        xy_points.append((x_xy, y_xy))\n",
    "    return xy_points\n",
    "\n",
    "    # Define pixel coordinates of points\n",
    "pixel_points = [(100, 200), (150, 250), (200, 300)]\n",
    "\n",
    "# Define origin and scale factors\n",
    "origin_pixel = (50, 50)  # Example origin in pixel space\n",
    "scale_factors = (0.1, 0.1)  # Example scale factors\n",
    "\n",
    "# Convert to XY-space coordinates\n",
    "xy_points = pixel_to_xy(pixel_points, origin_pixel, scale_factors)\n",
    "\n",
    "# Print the resulting XY-space coordinates\n",
    "print(xy_points)"
   ]
  },
  {
   "cell_type": "code",
   "execution_count": null,
   "id": "4447bb76",
   "metadata": {},
   "outputs": [],
   "source": [
    "def get_nearest_robot_and_crop(self, env_idx):\n",
    "        # plt.figure(figsize=(6.6667,11.85))\n",
    "        img = self.current_scene_frame['color'].data.astype(np.uint8)\n",
    "        # plt.imshow(img)\n",
    "        # plt.show()\n",
    "        hsv = cv2.cvtColor(img, cv2.COLOR_BGR2HSV)\n",
    "        mask = cv2.inRange(hsv, self.lower_green_filter, self.upper_green_filter)\n",
    "        seg_map = cv2.bitwise_and(img, img, mask = mask)\n",
    "        seg_map = cv2.cvtColor(seg_map, cv2.COLOR_BGR2GRAY)\n",
    "\n",
    "        boundary = cv2.Canny(seg_map,100,200)\n",
    "        boundary_pts = np.array(np.where(boundary==255)).T\n",
    "        # 0, 1920 are origin pixels in img space\n",
    "        boundary_pts[:,0] = (boundary_pts[:,0] - 0)/1080*(self.plane_size[1][0]-self.plane_size[0][0])+self.plane_size[0][0]\n",
    "        boundary_pts[:,1] = (1920 - boundary_pts[:,1])/1920*(self.plane_size[1][1]-self.plane_size[0][1])+self.plane_size[0][1]\n",
    "        \n",
    "        # plt.scatter(boundary_pts[:,0], boundary_pts[:,1], c='b')\n",
    "        # plt.scatter(self.nn_helper.kdtree_positions[:,0], self.nn_helper.kdtree_positions[:,1], c='r')\n",
    "        # plt.show()\n",
    "        com = np.mean(boundary_pts, axis=0)\n",
    "\n",
    "        if len(boundary_pts) > 200:\n",
    "            self.bd_pts[env_idx] = boundary_pts[np.random.choice(range(len(boundary_pts)), size=200, replace=False)]\n",
    "        else:\n",
    "            self.bd_pts[env_idx] = boundary_pts\n",
    "        idxs, neg_idxs = self.nn_helper.get_nn_robots(self.bd_pts[env_idx])\n",
    "        idxs = np.array(list(idxs))\n",
    "        min_idx = tuple(idxs[np.lexsort((idxs[:, 0], idxs[:, 1]))][0])\n",
    "        \n",
    "        \"\"\" Single Robot Experiment. Change this to include entire neighborhood \"\"\"\n",
    "        self.active_idxs[env_idx] = {min_idx: np.array((0,0))} # Store the action vector as value here later :)\n",
    "        # [self.active_idxs[idx]=np.array((0,0)) for idx in idxs]\n",
    "\n",
    "        idxs = np.array(list(idxs))\n",
    "        neighbors = self.nn_helper.robot_positions[idxs[:,0], idxs[:,1]]\n",
    "\n",
    "        finger_pos = self.nn_helper.robot_positions[min_idx].copy()\n",
    "        finger_pos[0] = (finger_pos[0] - self.plane_size[0][0])/(self.plane_size[1][0]-self.plane_size[0][0])*1080 - 0\n",
    "        finger_pos[1] = 1920 - (finger_pos[1] - self.plane_size[0][1])/(self.plane_size[1][1]-self.plane_size[0][1])*1920\n",
    "        finger_pos = finger_pos.astype(np.int32)\n",
    "\n",
    "        # plt.imshow(seg_map)\n",
    "        # for i in range(8):\n",
    "        #     for j in range(8):\n",
    "        #         finger_pos = self.nn_helper.robot_positions[i,j].copy()\n",
    "        #         finger_pos[0] = (finger_pos[0] - self.plane_size[0][0])/(self.plane_size[1][0]-self.plane_size[0][0])*1080 - 0\n",
    "        #         finger_pos[1] = 1920 - (finger_pos[1] - self.plane_size[0][1])/(self.plane_size[1][1]-self.plane_size[0][1])*1920\n",
    "        #         finger_pos = finger_pos.astype(np.int32)\n",
    "\n",
    "        #         plt.scatter(finger_pos[1], finger_pos[0], c='r')        \n",
    "        # plt.show()\n",
    "\n",
    "        crop = seg_map[finger_pos[0]-224:finger_pos[0]+224, finger_pos[1]-224:finger_pos[1]+224]\n",
    "        crop = cv2.resize(crop, (224,224), interpolation=cv2.INTER_AREA)\n",
    "        # plt.imshow(crop)\n",
    "        # plt.show()\n",
    "        cols = np.random.rand(3)\n",
    "        crop = np.dstack((crop, crop, crop))*cols\n",
    "        crop = Image.fromarray(np.uint8(crop*255))\n",
    "        crop = self.transform(crop).unsqueeze(0).to(device)\n",
    "        with torch.no_grad():\n",
    "            state = self.model(crop)\n",
    "        return state.detach().cpu().squeeze()"
   ]
  },
  {
   "cell_type": "code",
   "execution_count": 3,
   "id": "18b6ffa5",
   "metadata": {},
   "outputs": [
    {
     "data": {
      "text/plain": [
       "(0.0, -0.02165, 0.2625, 0.303107, 0.13125, 0.1407285)"
      ]
     },
     "execution_count": 3,
     "metadata": {},
     "output_type": "execute_result"
    }
   ],
   "source": [
    "# plane_size = 1000*np.array([(0.132-0.025, -0.179-0.055),(0.132+0.025, -0.179+0.055)])\n",
    "\n",
    "\n",
    "finger_positions = np.zeros((8,8,2))\n",
    "kdtree_positions = np.zeros((64, 2))\n",
    "for i in range(8):\n",
    "    for j in range(8):\n",
    "        if i%2==0:\n",
    "            finger_positions[i,j] = np.array((i*0.0375, j*0.043301 - 0.02165))\n",
    "            kdtree_positions[i*8 + j, :] = (i*0.0375, j*0.043301 - 0.02165)\n",
    "        else:\n",
    "            finger_positions[i, j] = np.array((i*0.0375, j*0.043301))\n",
    "            kdtree_positions[i*8 + j, :] = (i*0.0375, j*0.043301)\n",
    "\n",
    "min_x = np.min(finger_positions[:,:,0])\n",
    "max_x = np.max(finger_positions[:,:,0])\n",
    "min_y = np.min(finger_positions[:,:,1])\n",
    "max_y = np.max(finger_positions[:,:,1])\n",
    "min_x, min_y, max_x, max_y, (max_x+min_x)/2, (max_y+min_y)/2"
   ]
  },
  {
   "cell_type": "code",
   "execution_count": 16,
   "id": "6ee070b6",
   "metadata": {},
   "outputs": [
    {
     "name": "stderr",
     "output_type": "stream",
     "text": [
      "/home/nagababa/anaconda3/envs/py38/lib/python3.8/site-packages/sklearn/cluster/_kmeans.py:1412: FutureWarning: The default value of `n_init` will change from 10 to 'auto' in 1.4. Set the value of `n_init` explicitly to suppress the warning\n",
      "  super()._check_params_vs_input(X, default_n_init=10)\n"
     ]
    },
    {
     "data": {
      "text/plain": [
       "<matplotlib.collections.PathCollection at 0x7fd258e4a0a0>"
      ]
     },
     "execution_count": 16,
     "metadata": {},
     "output_type": "execute_result"
    },
    {
     "data": {
      "image/png": "[encoded data removed]",
      "text/plain": [
       "<Figure size 1200x1500 with 1 Axes>"
      ]
     },
     "metadata": {},
     "output_type": "display_data"
    }
   ],
   "source": [
    "seg_map = cv2.imread('./data/testing/boundary.png', 0)\n",
    "\n",
    "boundary = cv2.Canny(seg_map,100,200)\n",
    "boundary_pts = np.array(np.where(boundary==255)).T\n",
    "\n",
    "kmeans = KMeans(n_clusters=40, random_state=0).fit(boundary_pts)\n",
    "cluster_centers = kmeans.cluster_centers_\n",
    "\n",
    "plt.figure(figsize=(12,15))\n",
    "plt.imshow(seg_map)\n",
    "plt.scatter(boundary_pts[:,1], boundary_pts[:,0])\n",
    "plt.scatter(cluster_centers[:,1], cluster_centers[:,0], c='r')"
   ]
  },
  {
   "cell_type": "code",
   "execution_count": 31,
   "id": "8ca602ef",
   "metadata": {},
   "outputs": [
    {
     "name": "stdout",
     "output_type": "stream",
     "text": [
      "[[ 9.963e-01 -8.617e-02  0.000e+00  1.152e+02]\n",
      " [ 8.617e-02  9.963e-01  0.000e+00  5.757e+01]\n",
      " [ 0.000e+00  0.000e+00  1.000e+00  0.000e+00]\n",
      " [ 0.000e+00  0.000e+00  0.000e+00  1.000e+00]]\n"
     ]
    },
    {
     "data": {
      "text/plain": [
       "<matplotlib.collections.PathCollection at 0x7f65f214d880>"
      ]
     },
     "execution_count": 31,
     "metadata": {},
     "output_type": "execute_result"
    },
    {
     "data": {
      "image/png": "[encoded data removed]",
      "text/plain": [
       "<Figure size 640x480 with 1 Axes>"
      ]
     },
     "metadata": {},
     "output_type": "display_data"
    }
   ],
   "source": [
    "from utils.geometric_utils import icp\n",
    "\n",
    "\n",
    "angle = 5\n",
    "tx, ty = 100, 30\n",
    "\n",
    "height, width = seg_map.shape[:2]\n",
    "rotation_matrix = cv2.getRotationMatrix2D((width // 2, height // 2), angle, 1)\n",
    "translation_matrix = np.float32([[1, 0, tx], [0, 1, ty]])\n",
    "rotated_seg_map = cv2.warpAffine(seg_map, rotation_matrix, (width, height))\n",
    "translated_seg_map = cv2.warpAffine(rotated_seg_map, translation_matrix, (width, height))\n",
    "mask = translated_seg_map == 0\n",
    "\n",
    "translated_seg_map[mask] = 0\n",
    "boundary = cv2.Canny(translated_seg_map,100,200)\n",
    "boundary_pts2 = np.array(np.where(boundary==255)).T\n",
    "np.random.shuffle(boundary_pts2)\n",
    "\n",
    "M = icp(boundary_pts, boundary_pts2, icp_radius=1000)\n",
    "theta = np.arctan2(M[1, 0], M[0, 0])\n",
    "# theta = np.linalg.norm(theta_radians)\n",
    "theta_degrees = np.rad2deg(theta)\n",
    "M[0,3], M[1,3],theta, theta_degrees\n",
    "print(M)\n",
    "\n",
    "\n",
    "plt.imshow(translated_seg_map)\n",
    "plt.scatter(boundary_pts2[:,1], boundary_pts2[:,0])"
   ]
  },
  {
   "cell_type": "code",
   "execution_count": 29,
   "id": "4f78ede5",
   "metadata": {},
   "outputs": [
    {
     "name": "stdout",
     "output_type": "stream",
     "text": [
      "[[ 9.963e-01 -8.617e-02  0.000e+00  1.152e+02]\n",
      " [ 8.617e-02  9.963e-01  0.000e+00  5.757e+01]\n",
      " [ 0.000e+00  0.000e+00  1.000e+00  0.000e+00]\n",
      " [ 0.000e+00  0.000e+00  0.000e+00  1.000e+00]]\n"
     ]
    },
    {
     "data": {
      "text/plain": [
       "(115.15964195317466,\n",
       " 57.573835261954514,\n",
       " 0.08627447264586957,\n",
       " 4.943163162325195)"
      ]
     },
     "execution_count": 29,
     "metadata": {},
     "output_type": "execute_result"
    }
   ],
   "source": []
  },
  {
   "cell_type": "code",
   "execution_count": 5,
   "id": "164a9d23",
   "metadata": {},
   "outputs": [
    {
     "ename": "FileNotFoundError",
     "evalue": "[Errno 2] No such file or directory: './data/rl_data/rl_data.pkl'",
     "output_type": "error",
     "traceback": [
      "\u001b[0;31m---------------------------------------------------------------------------\u001b[0m",
      "\u001b[0;31mFileNotFoundError\u001b[0m                         Traceback (most recent call last)",
      "Cell \u001b[0;32mIn[5], line 3\u001b[0m\n\u001b[1;32m      1\u001b[0m \u001b[39mimport\u001b[39;00m \u001b[39mpickle\u001b[39;00m \u001b[39mas\u001b[39;00m \u001b[39mpkl\u001b[39;00m\n\u001b[0;32m----> 3\u001b[0m rewards \u001b[39m=\u001b[39m pkl\u001b[39m.\u001b[39mload(\u001b[39mopen\u001b[39;49m(\u001b[39m'\u001b[39;49m\u001b[39m./data/rl_data/rl_data.pkl\u001b[39;49m\u001b[39m'\u001b[39;49m, \u001b[39m'\u001b[39;49m\u001b[39mrb\u001b[39;49m\u001b[39m'\u001b[39;49m))\n\u001b[1;32m      5\u001b[0m \u001b[39m# Define the smoothing factor (0.9 in this example)\u001b[39;00m\n\u001b[1;32m      6\u001b[0m smoothing_factor \u001b[39m=\u001b[39m \u001b[39m0.99\u001b[39m\n",
      "File \u001b[0;32m~/anaconda3/envs/py310/lib/python3.10/site-packages/IPython/core/interactiveshell.py:284\u001b[0m, in \u001b[0;36m_modified_open\u001b[0;34m(file, *args, **kwargs)\u001b[0m\n\u001b[1;32m    277\u001b[0m \u001b[39mif\u001b[39;00m file \u001b[39min\u001b[39;00m {\u001b[39m0\u001b[39m, \u001b[39m1\u001b[39m, \u001b[39m2\u001b[39m}:\n\u001b[1;32m    278\u001b[0m     \u001b[39mraise\u001b[39;00m \u001b[39mValueError\u001b[39;00m(\n\u001b[1;32m    279\u001b[0m         \u001b[39mf\u001b[39m\u001b[39m\"\u001b[39m\u001b[39mIPython won\u001b[39m\u001b[39m'\u001b[39m\u001b[39mt let you open fd=\u001b[39m\u001b[39m{\u001b[39;00mfile\u001b[39m}\u001b[39;00m\u001b[39m by default \u001b[39m\u001b[39m\"\u001b[39m\n\u001b[1;32m    280\u001b[0m         \u001b[39m\"\u001b[39m\u001b[39mas it is likely to crash IPython. If you know what you are doing, \u001b[39m\u001b[39m\"\u001b[39m\n\u001b[1;32m    281\u001b[0m         \u001b[39m\"\u001b[39m\u001b[39myou can use builtins\u001b[39m\u001b[39m'\u001b[39m\u001b[39m open.\u001b[39m\u001b[39m\"\u001b[39m\n\u001b[1;32m    282\u001b[0m     )\n\u001b[0;32m--> 284\u001b[0m \u001b[39mreturn\u001b[39;00m io_open(file, \u001b[39m*\u001b[39;49margs, \u001b[39m*\u001b[39;49m\u001b[39m*\u001b[39;49mkwargs)\n",
      "\u001b[0;31mFileNotFoundError\u001b[0m: [Errno 2] No such file or directory: './data/rl_data/rl_data.pkl'"
     ]
    }
   ],
   "source": [
    "import pickle as pkl\n",
    "\n",
    "rewards = pkl.load(open('./data/rl_data/rl_data.pkl', 'rb'))\n",
    "\n",
    "# Define the smoothing factor (0.9 in this example)\n",
    "smoothing_factor = 0.99\n",
    "\n",
    "# Calculate the smoothed rewards using a moving average\n",
    "smoothed_rewards = [rewards[0]]\n",
    "for r in rewards[1:]:\n",
    "    smoothed_rewards.append(smoothed_rewards[-1] * smoothing_factor + r * (1 - smoothing_factor))\n",
    "\n",
    "# Create a figure and plot the rewards and smoothed rewards\n",
    "plt.figure(figsize=(10, 6))\n",
    "plt.plot(rewards, label='Original Rewards', alpha=0.5)\n",
    "plt.plot(smoothed_rewards, label='Smoothed Rewards', color='red', linewidth=2)\n",
    "plt.xlabel('Episode')\n",
    "plt.ylabel('Reward')\n",
    "plt.title('Reward Plot with 0.9 Smoothing')\n",
    "plt.legend()\n",
    "plt.grid(True)\n",
    "\n",
    "# Show the plot\n",
    "plt.show()"
   ]
  },
  {
   "cell_type": "code",
   "execution_count": 17,
   "id": "c93525f5",
   "metadata": {},
   "outputs": [
    {
     "data": {
      "image/png": "[encoded data removed]",
      "text/plain": [
       "<Figure size 1500x600 with 1 Axes>"
      ]
     },
     "metadata": {},
     "output_type": "display_data"
    }
   ],
   "source": [
    "%matplotlib inline\n",
    "import numpy as np\n",
    "import pickle as pkl\n",
    "import matplotlib.pyplot as plt\n",
    "\n",
    "# with open('./data/rl_data/ddpg_expt_0/ddpg_expt_0_s69420/progress.txt', 'r') as f:\n",
    "# with open('./data/rl_data/backup/sac_expt_grasp/progress.txt', 'r') as f:\n",
    "with open('./data/rl_data/masac_expt_0/masac_expt_0_s69420/progress.txt', 'r') as f:\n",
    "    lines = f.readlines()\n",
    "    rewards = [float(line.split('\\t')[1]) for line in lines[1:]]\n",
    "\n",
    "rewards = np.array(rewards)\n",
    "\n",
    "# Define the smoothing factor (0.9 in this example)\n",
    "smoothing_factor = 0.999\n",
    "\n",
    "# Calculate the smoothed rewards using a moving average\n",
    "smoothed_rewards = [rewards[0]]\n",
    "for r in rewards[1:]:\n",
    "    smoothed_rewards.append(smoothed_rewards[-1] * smoothing_factor + r * (1 - smoothing_factor))\n",
    "\n",
    "# Create a figure and plot the rewards and smoothed rewards\n",
    "plt.figure(figsize=(15, 6))\n",
    "plt.plot(rewards, label='Original Rewards', alpha=0.5)\n",
    "plt.plot(smoothed_rewards, label='Smoothed Rewards', color='red', linewidth=2)\n",
    "# plt.ylim(-200, 0)\n",
    "plt.xlabel('Episode')\n",
    "plt.ylabel('Reward')\n",
    "\n",
    "plt.title('Reward Plot with 0.9 Smoothing')\n",
    "plt.legend()\n",
    "plt.grid(True)\n",
    "\n",
    "# Show the plot\n",
    "plt.show()"
   ]
  },
  {
   "cell_type": "code",
   "execution_count": 25,
   "id": "7ea7cf9f",
   "metadata": {},
   "outputs": [],
   "source": [
    "temp = ''.join(lines)\n",
    "with open('./data/legacy/ddpg_expt_500iters_normalized.txt', 'w') as new_f:\n",
    "    new_f.write(temp)"
   ]
  },
  {
   "cell_type": "code",
   "execution_count": 2,
   "id": "228cc42e",
   "metadata": {},
   "outputs": [
    {
     "data": {
      "text/plain": [
       "592.1235521235521"
      ]
     },
     "execution_count": 2,
     "metadata": {},
     "output_type": "execute_result"
    }
   ],
   "source": [
    "import numpy as np\n",
    "plane_size = 1000*np.array([(0 - 0.063, 0 - 0.2095), (0.2625 + 0.063, 0.303107 + 0.1865)])\n",
    "delta_plane_x = plane_size[1][0] - plane_size[0][0]\n",
    "delta_plane_y = plane_size[1][1] - plane_size[0][1]\n",
    "rad = 150\n",
    "pix_rad =(rad - plane_size[0][0])/(plane_size[1][0]-plane_size[0][0])*1080\n",
    "pix_rad"
   ]
  },
  {
   "cell_type": "code",
   "execution_count": 3,
   "id": "e15ccd02",
   "metadata": {},
   "outputs": [
    {
     "data": {
      "text/plain": [
       "array([[[ 175., 1344.],\n",
       "        [ 175., 1225.],\n",
       "        [ 175., 1106.],\n",
       "        [ 175.,  987.],\n",
       "        [ 175.,  868.],\n",
       "        [ 175.,  750.],\n",
       "        [ 175.,  631.],\n",
       "        [ 175.,  512.]],\n",
       "\n",
       "       [[ 279., 1404.],\n",
       "        [ 279., 1285.],\n",
       "        [ 279., 1166.],\n",
       "        [ 279., 1047.],\n",
       "        [ 279.,  928.],\n",
       "        [ 279.,  809.],\n",
       "        [ 279.,  690.],\n",
       "        [ 279.,  571.]],\n",
       "\n",
       "       [[ 383., 1344.],\n",
       "        [ 383., 1225.],\n",
       "        [ 383., 1106.],\n",
       "        [ 383.,  987.],\n",
       "        [ 383.,  868.],\n",
       "        [ 383.,  750.],\n",
       "        [ 383.,  631.],\n",
       "        [ 383.,  512.]],\n",
       "\n",
       "       [[ 487., 1404.],\n",
       "        [ 487., 1285.],\n",
       "        [ 487., 1166.],\n",
       "        [ 487., 1047.],\n",
       "        [ 487.,  928.],\n",
       "        [ 487.,  809.],\n",
       "        [ 487.,  690.],\n",
       "        [ 487.,  571.]],\n",
       "\n",
       "       [[ 592., 1344.],\n",
       "        [ 592., 1225.],\n",
       "        [ 592., 1106.],\n",
       "        [ 592.,  987.],\n",
       "        [ 592.,  868.],\n",
       "        [ 592.,  750.],\n",
       "        [ 592.,  631.],\n",
       "        [ 592.,  512.]],\n",
       "\n",
       "       [[ 696., 1404.],\n",
       "        [ 696., 1285.],\n",
       "        [ 696., 1166.],\n",
       "        [ 696., 1047.],\n",
       "        [ 696.,  928.],\n",
       "        [ 696.,  809.],\n",
       "        [ 696.,  690.],\n",
       "        [ 696.,  571.]],\n",
       "\n",
       "       [[ 800., 1344.],\n",
       "        [ 800., 1225.],\n",
       "        [ 800., 1106.],\n",
       "        [ 800.,  987.],\n",
       "        [ 800.,  868.],\n",
       "        [ 800.,  750.],\n",
       "        [ 800.,  631.],\n",
       "        [ 800.,  512.]],\n",
       "\n",
       "       [[ 904., 1404.],\n",
       "        [ 904., 1285.],\n",
       "        [ 904., 1166.],\n",
       "        [ 904., 1047.],\n",
       "        [ 904.,  928.],\n",
       "        [ 904.,  809.],\n",
       "        [ 904.,  690.],\n",
       "        [ 904.,  571.]]])"
      ]
     },
     "execution_count": 3,
     "metadata": {},
     "output_type": "execute_result"
    }
   ],
   "source": [
    "robot_positions = np.zeros((8,8,2))\n",
    "for i in range(8):\n",
    "    for j in range(8):\n",
    "        if i%2!=0:\n",
    "            finger_pos = np.array((i*37.5, j*43.301 - 21.65))\n",
    "        else:\n",
    "            finger_pos = np.array((i*37.5, j*43.301))\n",
    "\n",
    "        finger_pos[0] = (finger_pos[0] - plane_size[0][0])/(plane_size[1][0]-plane_size[0][0])*1080 - 0\n",
    "        finger_pos[1] = 1920 - (finger_pos[1] - plane_size[0][1])/(plane_size[1][1]-plane_size[0][1])*1920\n",
    "        finger_pos = finger_pos.astype(np.int32)\n",
    "        robot_positions[i,j] = finger_pos\n",
    "\n",
    "robot_positions"
   ]
  },
  {
   "cell_type": "code",
   "execution_count": 4,
   "id": "dce205bc",
   "metadata": {},
   "outputs": [
    {
     "data": {
      "text/plain": [
       "array([277.99227799,  82.39082143])"
      ]
     },
     "execution_count": 4,
     "metadata": {},
     "output_type": "execute_result"
    }
   ],
   "source": [
    "var = np.array([50, 50])\n",
    "pix1 = np.array([(var[0] - plane_size[0][0])/(plane_size[1][0]-plane_size[0][0])*1080 - 0, 1920 - (var[1] - plane_size[0][1])/(plane_size[1][1]-plane_size[0][1])*1920])\n",
    "var = np.array([150, 100])\n",
    "pix2 = np.array([(var[0] - plane_size[0][0])/(plane_size[1][0]-plane_size[0][0])*1080 - 0, 1920 - (var[1] - plane_size[0][1])/(plane_size[1][1]-plane_size[0][1])*1920])\n",
    "\n",
    "var = [100, 30]\n",
    "var*np.array((1080/(plane_size[1][0]-plane_size[0][0]), 1920/(plane_size[1][1]-plane_size[0][1])))"
   ]
  },
  {
   "cell_type": "code",
   "execution_count": 22,
   "id": "94271f71",
   "metadata": {},
   "outputs": [
    {
     "data": {
      "text/plain": [
       "(array([ 383., 1106.]), array([383., 512.]), array([ 279., 1047.]))"
      ]
     },
     "execution_count": 22,
     "metadata": {},
     "output_type": "execute_result"
    },
    {
     "ename": "",
     "evalue": "",
     "output_type": "error",
     "traceback": [
      "\u001b[1;31mThe Kernel crashed while executing code in the the current cell or a previous cell. Please review the code in the cell(s) to identify a possible cause of the failure. Click <a href='https://aka.ms/vscodeJupyterKernelCrash'>here</a> for more info. View Jupyter <a href='command:jupyter.viewOutput'>log</a> for further details."
     ]
    }
   ],
   "source": [
    "robot_positions[2,2], robot_positions[2, 7], robot_positions[1,3]"
   ]
  },
  {
   "cell_type": "code",
   "execution_count": 7,
   "id": "4e3eddc1",
   "metadata": {},
   "outputs": [
    {
     "data": {
      "text/plain": [
       "array([904, 571], dtype=int32)"
      ]
     },
     "execution_count": 7,
     "metadata": {},
     "output_type": "execute_result"
    }
   ],
   "source": [
    "finger_pos"
   ]
  },
  {
   "cell_type": "code",
   "execution_count": null,
   "id": "b7d17682",
   "metadata": {},
   "outputs": [],
   "source": []
  }
 ],
 "metadata": {
  "kernelspec": {
   "display_name": "Python 3 (ipykernel)",
   "language": "python",
   "name": "python3"
  },
  "language_info": {
   "codemirror_mode": {
    "name": "ipython",
    "version": 3
   },
   "file_extension": ".py",
   "mimetype": "text/x-python",
   "name": "python",
   "nbconvert_exporter": "python",
   "pygments_lexer": "ipython3",
   "version": "3.10.11"
  }
 },
 "nbformat": 4,
 "nbformat_minor": 5
}
